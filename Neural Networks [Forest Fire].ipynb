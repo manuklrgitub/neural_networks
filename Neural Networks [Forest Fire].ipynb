{
 "cells": [
  {
   "cell_type": "markdown",
   "id": "e59ae3db",
   "metadata": {},
   "source": [
    "## Problem Statement "
   ]
  },
  {
   "cell_type": "markdown",
   "id": "ad4c1323",
   "metadata": {},
   "source": [
    "#### Predict The Burned Area Of Forest Fires With Neural Networks."
   ]
  },
  {
   "cell_type": "markdown",
   "id": "50fee00f",
   "metadata": {},
   "source": [
    "### Import all the required libraries "
   ]
  },
  {
   "cell_type": "code",
   "execution_count": 1,
   "id": "ae71610c",
   "metadata": {},
   "outputs": [],
   "source": [
    "import numpy as np\n",
    "import pandas as pd\n",
    "\n",
    "import matplotlib.pyplot as plt\n",
    "import seaborn as sns\n",
    "\n",
    "from sklearn.model_selection import train_test_split\n",
    "import tensorflow as tf\n",
    "\n",
    "import warnings\n",
    "warnings.filterwarnings('ignore')"
   ]
  },
  {
   "cell_type": "code",
   "execution_count": 2,
   "id": "2381982d",
   "metadata": {},
   "outputs": [
    {
     "data": {
      "text/html": [
       "<div>\n",
       "<style scoped>\n",
       "    .dataframe tbody tr th:only-of-type {\n",
       "        vertical-align: middle;\n",
       "    }\n",
       "\n",
       "    .dataframe tbody tr th {\n",
       "        vertical-align: top;\n",
       "    }\n",
       "\n",
       "    .dataframe thead th {\n",
       "        text-align: right;\n",
       "    }\n",
       "</style>\n",
       "<table border=\"1\" class=\"dataframe\">\n",
       "  <thead>\n",
       "    <tr style=\"text-align: right;\">\n",
       "      <th></th>\n",
       "      <th>month</th>\n",
       "      <th>day</th>\n",
       "      <th>FFMC</th>\n",
       "      <th>DMC</th>\n",
       "      <th>DC</th>\n",
       "      <th>ISI</th>\n",
       "      <th>temp</th>\n",
       "      <th>RH</th>\n",
       "      <th>wind</th>\n",
       "      <th>rain</th>\n",
       "      <th>...</th>\n",
       "      <th>monthfeb</th>\n",
       "      <th>monthjan</th>\n",
       "      <th>monthjul</th>\n",
       "      <th>monthjun</th>\n",
       "      <th>monthmar</th>\n",
       "      <th>monthmay</th>\n",
       "      <th>monthnov</th>\n",
       "      <th>monthoct</th>\n",
       "      <th>monthsep</th>\n",
       "      <th>size_category</th>\n",
       "    </tr>\n",
       "  </thead>\n",
       "  <tbody>\n",
       "    <tr>\n",
       "      <th>0</th>\n",
       "      <td>mar</td>\n",
       "      <td>fri</td>\n",
       "      <td>86.2</td>\n",
       "      <td>26.2</td>\n",
       "      <td>94.3</td>\n",
       "      <td>5.1</td>\n",
       "      <td>8.2</td>\n",
       "      <td>51</td>\n",
       "      <td>6.7</td>\n",
       "      <td>0.0</td>\n",
       "      <td>...</td>\n",
       "      <td>0</td>\n",
       "      <td>0</td>\n",
       "      <td>0</td>\n",
       "      <td>0</td>\n",
       "      <td>1</td>\n",
       "      <td>0</td>\n",
       "      <td>0</td>\n",
       "      <td>0</td>\n",
       "      <td>0</td>\n",
       "      <td>small</td>\n",
       "    </tr>\n",
       "    <tr>\n",
       "      <th>1</th>\n",
       "      <td>oct</td>\n",
       "      <td>tue</td>\n",
       "      <td>90.6</td>\n",
       "      <td>35.4</td>\n",
       "      <td>669.1</td>\n",
       "      <td>6.7</td>\n",
       "      <td>18.0</td>\n",
       "      <td>33</td>\n",
       "      <td>0.9</td>\n",
       "      <td>0.0</td>\n",
       "      <td>...</td>\n",
       "      <td>0</td>\n",
       "      <td>0</td>\n",
       "      <td>0</td>\n",
       "      <td>0</td>\n",
       "      <td>0</td>\n",
       "      <td>0</td>\n",
       "      <td>0</td>\n",
       "      <td>1</td>\n",
       "      <td>0</td>\n",
       "      <td>small</td>\n",
       "    </tr>\n",
       "    <tr>\n",
       "      <th>2</th>\n",
       "      <td>oct</td>\n",
       "      <td>sat</td>\n",
       "      <td>90.6</td>\n",
       "      <td>43.7</td>\n",
       "      <td>686.9</td>\n",
       "      <td>6.7</td>\n",
       "      <td>14.6</td>\n",
       "      <td>33</td>\n",
       "      <td>1.3</td>\n",
       "      <td>0.0</td>\n",
       "      <td>...</td>\n",
       "      <td>0</td>\n",
       "      <td>0</td>\n",
       "      <td>0</td>\n",
       "      <td>0</td>\n",
       "      <td>0</td>\n",
       "      <td>0</td>\n",
       "      <td>0</td>\n",
       "      <td>1</td>\n",
       "      <td>0</td>\n",
       "      <td>small</td>\n",
       "    </tr>\n",
       "    <tr>\n",
       "      <th>3</th>\n",
       "      <td>mar</td>\n",
       "      <td>fri</td>\n",
       "      <td>91.7</td>\n",
       "      <td>33.3</td>\n",
       "      <td>77.5</td>\n",
       "      <td>9.0</td>\n",
       "      <td>8.3</td>\n",
       "      <td>97</td>\n",
       "      <td>4.0</td>\n",
       "      <td>0.2</td>\n",
       "      <td>...</td>\n",
       "      <td>0</td>\n",
       "      <td>0</td>\n",
       "      <td>0</td>\n",
       "      <td>0</td>\n",
       "      <td>1</td>\n",
       "      <td>0</td>\n",
       "      <td>0</td>\n",
       "      <td>0</td>\n",
       "      <td>0</td>\n",
       "      <td>small</td>\n",
       "    </tr>\n",
       "    <tr>\n",
       "      <th>4</th>\n",
       "      <td>mar</td>\n",
       "      <td>sun</td>\n",
       "      <td>89.3</td>\n",
       "      <td>51.3</td>\n",
       "      <td>102.2</td>\n",
       "      <td>9.6</td>\n",
       "      <td>11.4</td>\n",
       "      <td>99</td>\n",
       "      <td>1.8</td>\n",
       "      <td>0.0</td>\n",
       "      <td>...</td>\n",
       "      <td>0</td>\n",
       "      <td>0</td>\n",
       "      <td>0</td>\n",
       "      <td>0</td>\n",
       "      <td>1</td>\n",
       "      <td>0</td>\n",
       "      <td>0</td>\n",
       "      <td>0</td>\n",
       "      <td>0</td>\n",
       "      <td>small</td>\n",
       "    </tr>\n",
       "  </tbody>\n",
       "</table>\n",
       "<p>5 rows × 31 columns</p>\n",
       "</div>"
      ],
      "text/plain": [
       "  month  day  FFMC   DMC     DC  ISI  temp  RH  wind  rain  ...  monthfeb  \\\n",
       "0   mar  fri  86.2  26.2   94.3  5.1   8.2  51   6.7   0.0  ...         0   \n",
       "1   oct  tue  90.6  35.4  669.1  6.7  18.0  33   0.9   0.0  ...         0   \n",
       "2   oct  sat  90.6  43.7  686.9  6.7  14.6  33   1.3   0.0  ...         0   \n",
       "3   mar  fri  91.7  33.3   77.5  9.0   8.3  97   4.0   0.2  ...         0   \n",
       "4   mar  sun  89.3  51.3  102.2  9.6  11.4  99   1.8   0.0  ...         0   \n",
       "\n",
       "   monthjan  monthjul  monthjun  monthmar  monthmay  monthnov  monthoct  \\\n",
       "0         0         0         0         1         0         0         0   \n",
       "1         0         0         0         0         0         0         1   \n",
       "2         0         0         0         0         0         0         1   \n",
       "3         0         0         0         1         0         0         0   \n",
       "4         0         0         0         1         0         0         0   \n",
       "\n",
       "   monthsep  size_category  \n",
       "0         0          small  \n",
       "1         0          small  \n",
       "2         0          small  \n",
       "3         0          small  \n",
       "4         0          small  \n",
       "\n",
       "[5 rows x 31 columns]"
      ]
     },
     "execution_count": 2,
     "metadata": {},
     "output_type": "execute_result"
    }
   ],
   "source": [
    "df_ff = pd.read_csv(\"forestfires.csv\")\n",
    "df_ff.head()"
   ]
  },
  {
   "cell_type": "code",
   "execution_count": 3,
   "id": "4de70c70",
   "metadata": {},
   "outputs": [
    {
     "data": {
      "text/plain": [
       "(517, 31)"
      ]
     },
     "execution_count": 3,
     "metadata": {},
     "output_type": "execute_result"
    }
   ],
   "source": [
    "#Shape of the dataset:-\n",
    "df_ff.shape"
   ]
  },
  {
   "cell_type": "code",
   "execution_count": 4,
   "id": "020f964a",
   "metadata": {},
   "outputs": [
    {
     "data": {
      "text/plain": [
       "month             object\n",
       "day               object\n",
       "FFMC             float64\n",
       "DMC              float64\n",
       "DC               float64\n",
       "ISI              float64\n",
       "temp             float64\n",
       "RH                 int64\n",
       "wind             float64\n",
       "rain             float64\n",
       "area             float64\n",
       "dayfri             int64\n",
       "daymon             int64\n",
       "daysat             int64\n",
       "daysun             int64\n",
       "daythu             int64\n",
       "daytue             int64\n",
       "daywed             int64\n",
       "monthapr           int64\n",
       "monthaug           int64\n",
       "monthdec           int64\n",
       "monthfeb           int64\n",
       "monthjan           int64\n",
       "monthjul           int64\n",
       "monthjun           int64\n",
       "monthmar           int64\n",
       "monthmay           int64\n",
       "monthnov           int64\n",
       "monthoct           int64\n",
       "monthsep           int64\n",
       "size_category     object\n",
       "dtype: object"
      ]
     },
     "execution_count": 4,
     "metadata": {},
     "output_type": "execute_result"
    }
   ],
   "source": [
    "##Checking datatypes:-\n",
    "df_ff.dtypes"
   ]
  },
  {
   "cell_type": "code",
   "execution_count": 5,
   "id": "fa2ab0b4",
   "metadata": {},
   "outputs": [
    {
     "data": {
      "text/plain": [
       "month            0\n",
       "day              0\n",
       "FFMC             0\n",
       "DMC              0\n",
       "DC               0\n",
       "ISI              0\n",
       "temp             0\n",
       "RH               0\n",
       "wind             0\n",
       "rain             0\n",
       "area             0\n",
       "dayfri           0\n",
       "daymon           0\n",
       "daysat           0\n",
       "daysun           0\n",
       "daythu           0\n",
       "daytue           0\n",
       "daywed           0\n",
       "monthapr         0\n",
       "monthaug         0\n",
       "monthdec         0\n",
       "monthfeb         0\n",
       "monthjan         0\n",
       "monthjul         0\n",
       "monthjun         0\n",
       "monthmar         0\n",
       "monthmay         0\n",
       "monthnov         0\n",
       "monthoct         0\n",
       "monthsep         0\n",
       "size_category    0\n",
       "dtype: int64"
      ]
     },
     "execution_count": 5,
     "metadata": {},
     "output_type": "execute_result"
    }
   ],
   "source": [
    "##Checking null values:-\n",
    "df_ff.isnull().sum()"
   ]
  },
  {
   "cell_type": "code",
   "execution_count": 6,
   "id": "0ee89553",
   "metadata": {},
   "outputs": [
    {
     "name": "stdout",
     "output_type": "stream",
     "text": [
      "Duplicate Rows :\n"
     ]
    }
   ],
   "source": [
    "duplicate = df_ff[df_ff.duplicated()]\n",
    "print(\"Duplicate Rows :\")"
   ]
  },
  {
   "cell_type": "code",
   "execution_count": 7,
   "id": "0fb116da",
   "metadata": {},
   "outputs": [
    {
     "data": {
      "text/plain": [
       "Index(['month', 'day', 'FFMC', 'DMC', 'DC', 'ISI', 'temp', 'RH', 'wind',\n",
       "       'rain', 'area', 'dayfri', 'daymon', 'daysat', 'daysun', 'daythu',\n",
       "       'daytue', 'daywed', 'monthapr', 'monthaug', 'monthdec', 'monthfeb',\n",
       "       'monthjan', 'monthjul', 'monthjun', 'monthmar', 'monthmay', 'monthnov',\n",
       "       'monthoct', 'monthsep', 'size_category'],\n",
       "      dtype='object')"
      ]
     },
     "execution_count": 7,
     "metadata": {},
     "output_type": "execute_result"
    }
   ],
   "source": [
    "df_ff.columns"
   ]
  },
  {
   "cell_type": "code",
   "execution_count": 8,
   "id": "ae720665",
   "metadata": {},
   "outputs": [
    {
     "data": {
      "text/html": [
       "<div>\n",
       "<style scoped>\n",
       "    .dataframe tbody tr th:only-of-type {\n",
       "        vertical-align: middle;\n",
       "    }\n",
       "\n",
       "    .dataframe tbody tr th {\n",
       "        vertical-align: top;\n",
       "    }\n",
       "\n",
       "    .dataframe thead th {\n",
       "        text-align: right;\n",
       "    }\n",
       "</style>\n",
       "<table border=\"1\" class=\"dataframe\">\n",
       "  <thead>\n",
       "    <tr style=\"text-align: right;\">\n",
       "      <th></th>\n",
       "      <th>FFMC</th>\n",
       "      <th>DMC</th>\n",
       "      <th>DC</th>\n",
       "      <th>ISI</th>\n",
       "      <th>temp</th>\n",
       "      <th>RH</th>\n",
       "      <th>wind</th>\n",
       "      <th>rain</th>\n",
       "      <th>area</th>\n",
       "      <th>dayfri</th>\n",
       "      <th>...</th>\n",
       "      <th>monthfeb</th>\n",
       "      <th>monthjan</th>\n",
       "      <th>monthjul</th>\n",
       "      <th>monthjun</th>\n",
       "      <th>monthmar</th>\n",
       "      <th>monthmay</th>\n",
       "      <th>monthnov</th>\n",
       "      <th>monthoct</th>\n",
       "      <th>monthsep</th>\n",
       "      <th>size_category</th>\n",
       "    </tr>\n",
       "  </thead>\n",
       "  <tbody>\n",
       "    <tr>\n",
       "      <th>0</th>\n",
       "      <td>86.2</td>\n",
       "      <td>26.2</td>\n",
       "      <td>94.3</td>\n",
       "      <td>5.1</td>\n",
       "      <td>8.2</td>\n",
       "      <td>51</td>\n",
       "      <td>6.7</td>\n",
       "      <td>0.0</td>\n",
       "      <td>0.0</td>\n",
       "      <td>1</td>\n",
       "      <td>...</td>\n",
       "      <td>0</td>\n",
       "      <td>0</td>\n",
       "      <td>0</td>\n",
       "      <td>0</td>\n",
       "      <td>1</td>\n",
       "      <td>0</td>\n",
       "      <td>0</td>\n",
       "      <td>0</td>\n",
       "      <td>0</td>\n",
       "      <td>small</td>\n",
       "    </tr>\n",
       "    <tr>\n",
       "      <th>1</th>\n",
       "      <td>90.6</td>\n",
       "      <td>35.4</td>\n",
       "      <td>669.1</td>\n",
       "      <td>6.7</td>\n",
       "      <td>18.0</td>\n",
       "      <td>33</td>\n",
       "      <td>0.9</td>\n",
       "      <td>0.0</td>\n",
       "      <td>0.0</td>\n",
       "      <td>0</td>\n",
       "      <td>...</td>\n",
       "      <td>0</td>\n",
       "      <td>0</td>\n",
       "      <td>0</td>\n",
       "      <td>0</td>\n",
       "      <td>0</td>\n",
       "      <td>0</td>\n",
       "      <td>0</td>\n",
       "      <td>1</td>\n",
       "      <td>0</td>\n",
       "      <td>small</td>\n",
       "    </tr>\n",
       "    <tr>\n",
       "      <th>2</th>\n",
       "      <td>90.6</td>\n",
       "      <td>43.7</td>\n",
       "      <td>686.9</td>\n",
       "      <td>6.7</td>\n",
       "      <td>14.6</td>\n",
       "      <td>33</td>\n",
       "      <td>1.3</td>\n",
       "      <td>0.0</td>\n",
       "      <td>0.0</td>\n",
       "      <td>0</td>\n",
       "      <td>...</td>\n",
       "      <td>0</td>\n",
       "      <td>0</td>\n",
       "      <td>0</td>\n",
       "      <td>0</td>\n",
       "      <td>0</td>\n",
       "      <td>0</td>\n",
       "      <td>0</td>\n",
       "      <td>1</td>\n",
       "      <td>0</td>\n",
       "      <td>small</td>\n",
       "    </tr>\n",
       "    <tr>\n",
       "      <th>3</th>\n",
       "      <td>91.7</td>\n",
       "      <td>33.3</td>\n",
       "      <td>77.5</td>\n",
       "      <td>9.0</td>\n",
       "      <td>8.3</td>\n",
       "      <td>97</td>\n",
       "      <td>4.0</td>\n",
       "      <td>0.2</td>\n",
       "      <td>0.0</td>\n",
       "      <td>1</td>\n",
       "      <td>...</td>\n",
       "      <td>0</td>\n",
       "      <td>0</td>\n",
       "      <td>0</td>\n",
       "      <td>0</td>\n",
       "      <td>1</td>\n",
       "      <td>0</td>\n",
       "      <td>0</td>\n",
       "      <td>0</td>\n",
       "      <td>0</td>\n",
       "      <td>small</td>\n",
       "    </tr>\n",
       "    <tr>\n",
       "      <th>4</th>\n",
       "      <td>89.3</td>\n",
       "      <td>51.3</td>\n",
       "      <td>102.2</td>\n",
       "      <td>9.6</td>\n",
       "      <td>11.4</td>\n",
       "      <td>99</td>\n",
       "      <td>1.8</td>\n",
       "      <td>0.0</td>\n",
       "      <td>0.0</td>\n",
       "      <td>0</td>\n",
       "      <td>...</td>\n",
       "      <td>0</td>\n",
       "      <td>0</td>\n",
       "      <td>0</td>\n",
       "      <td>0</td>\n",
       "      <td>1</td>\n",
       "      <td>0</td>\n",
       "      <td>0</td>\n",
       "      <td>0</td>\n",
       "      <td>0</td>\n",
       "      <td>small</td>\n",
       "    </tr>\n",
       "  </tbody>\n",
       "</table>\n",
       "<p>5 rows × 29 columns</p>\n",
       "</div>"
      ],
      "text/plain": [
       "   FFMC   DMC     DC  ISI  temp  RH  wind  rain  area  dayfri  ...  monthfeb  \\\n",
       "0  86.2  26.2   94.3  5.1   8.2  51   6.7   0.0   0.0       1  ...         0   \n",
       "1  90.6  35.4  669.1  6.7  18.0  33   0.9   0.0   0.0       0  ...         0   \n",
       "2  90.6  43.7  686.9  6.7  14.6  33   1.3   0.0   0.0       0  ...         0   \n",
       "3  91.7  33.3   77.5  9.0   8.3  97   4.0   0.2   0.0       1  ...         0   \n",
       "4  89.3  51.3  102.2  9.6  11.4  99   1.8   0.0   0.0       0  ...         0   \n",
       "\n",
       "   monthjan  monthjul  monthjun  monthmar  monthmay  monthnov  monthoct  \\\n",
       "0         0         0         0         1         0         0         0   \n",
       "1         0         0         0         0         0         0         1   \n",
       "2         0         0         0         0         0         0         1   \n",
       "3         0         0         0         1         0         0         0   \n",
       "4         0         0         0         1         0         0         0   \n",
       "\n",
       "   monthsep  size_category  \n",
       "0         0          small  \n",
       "1         0          small  \n",
       "2         0          small  \n",
       "3         0          small  \n",
       "4         0          small  \n",
       "\n",
       "[5 rows x 29 columns]"
      ]
     },
     "execution_count": 8,
     "metadata": {},
     "output_type": "execute_result"
    }
   ],
   "source": [
    "df_ff=df_ff.loc[:,['FFMC', 'DMC', 'DC', 'ISI', 'temp', 'RH', 'wind','rain', 'area', 'dayfri', 'daymon', 'daysat', 'daysun', 'daythu','daytue', 'daywed', 'monthapr', 'monthaug', 'monthdec', 'monthfeb','monthjan', 'monthjul', 'monthjun', 'monthmar', 'monthmay', 'monthnov','monthoct', 'monthsep', 'size_category']]\n",
    "df_ff.head()"
   ]
  },
  {
   "cell_type": "code",
   "execution_count": 9,
   "id": "2acb6ffa",
   "metadata": {},
   "outputs": [
    {
     "data": {
      "text/html": [
       "<div>\n",
       "<style scoped>\n",
       "    .dataframe tbody tr th:only-of-type {\n",
       "        vertical-align: middle;\n",
       "    }\n",
       "\n",
       "    .dataframe tbody tr th {\n",
       "        vertical-align: top;\n",
       "    }\n",
       "\n",
       "    .dataframe thead th {\n",
       "        text-align: right;\n",
       "    }\n",
       "</style>\n",
       "<table border=\"1\" class=\"dataframe\">\n",
       "  <thead>\n",
       "    <tr style=\"text-align: right;\">\n",
       "      <th></th>\n",
       "      <th>FFMC</th>\n",
       "      <th>DMC</th>\n",
       "      <th>DC</th>\n",
       "      <th>ISI</th>\n",
       "      <th>temp</th>\n",
       "      <th>RH</th>\n",
       "      <th>wind</th>\n",
       "      <th>rain</th>\n",
       "      <th>area</th>\n",
       "      <th>dayfri</th>\n",
       "      <th>...</th>\n",
       "      <th>monthdec</th>\n",
       "      <th>monthfeb</th>\n",
       "      <th>monthjan</th>\n",
       "      <th>monthjul</th>\n",
       "      <th>monthjun</th>\n",
       "      <th>monthmar</th>\n",
       "      <th>monthmay</th>\n",
       "      <th>monthnov</th>\n",
       "      <th>monthoct</th>\n",
       "      <th>monthsep</th>\n",
       "    </tr>\n",
       "  </thead>\n",
       "  <tbody>\n",
       "    <tr>\n",
       "      <th>0</th>\n",
       "      <td>86.2</td>\n",
       "      <td>26.2</td>\n",
       "      <td>94.3</td>\n",
       "      <td>5.1</td>\n",
       "      <td>8.2</td>\n",
       "      <td>51</td>\n",
       "      <td>6.7</td>\n",
       "      <td>0.0</td>\n",
       "      <td>0.0</td>\n",
       "      <td>1</td>\n",
       "      <td>...</td>\n",
       "      <td>0</td>\n",
       "      <td>0</td>\n",
       "      <td>0</td>\n",
       "      <td>0</td>\n",
       "      <td>0</td>\n",
       "      <td>1</td>\n",
       "      <td>0</td>\n",
       "      <td>0</td>\n",
       "      <td>0</td>\n",
       "      <td>0</td>\n",
       "    </tr>\n",
       "    <tr>\n",
       "      <th>1</th>\n",
       "      <td>90.6</td>\n",
       "      <td>35.4</td>\n",
       "      <td>669.1</td>\n",
       "      <td>6.7</td>\n",
       "      <td>18.0</td>\n",
       "      <td>33</td>\n",
       "      <td>0.9</td>\n",
       "      <td>0.0</td>\n",
       "      <td>0.0</td>\n",
       "      <td>0</td>\n",
       "      <td>...</td>\n",
       "      <td>0</td>\n",
       "      <td>0</td>\n",
       "      <td>0</td>\n",
       "      <td>0</td>\n",
       "      <td>0</td>\n",
       "      <td>0</td>\n",
       "      <td>0</td>\n",
       "      <td>0</td>\n",
       "      <td>1</td>\n",
       "      <td>0</td>\n",
       "    </tr>\n",
       "    <tr>\n",
       "      <th>2</th>\n",
       "      <td>90.6</td>\n",
       "      <td>43.7</td>\n",
       "      <td>686.9</td>\n",
       "      <td>6.7</td>\n",
       "      <td>14.6</td>\n",
       "      <td>33</td>\n",
       "      <td>1.3</td>\n",
       "      <td>0.0</td>\n",
       "      <td>0.0</td>\n",
       "      <td>0</td>\n",
       "      <td>...</td>\n",
       "      <td>0</td>\n",
       "      <td>0</td>\n",
       "      <td>0</td>\n",
       "      <td>0</td>\n",
       "      <td>0</td>\n",
       "      <td>0</td>\n",
       "      <td>0</td>\n",
       "      <td>0</td>\n",
       "      <td>1</td>\n",
       "      <td>0</td>\n",
       "    </tr>\n",
       "    <tr>\n",
       "      <th>3</th>\n",
       "      <td>91.7</td>\n",
       "      <td>33.3</td>\n",
       "      <td>77.5</td>\n",
       "      <td>9.0</td>\n",
       "      <td>8.3</td>\n",
       "      <td>97</td>\n",
       "      <td>4.0</td>\n",
       "      <td>0.2</td>\n",
       "      <td>0.0</td>\n",
       "      <td>1</td>\n",
       "      <td>...</td>\n",
       "      <td>0</td>\n",
       "      <td>0</td>\n",
       "      <td>0</td>\n",
       "      <td>0</td>\n",
       "      <td>0</td>\n",
       "      <td>1</td>\n",
       "      <td>0</td>\n",
       "      <td>0</td>\n",
       "      <td>0</td>\n",
       "      <td>0</td>\n",
       "    </tr>\n",
       "    <tr>\n",
       "      <th>4</th>\n",
       "      <td>89.3</td>\n",
       "      <td>51.3</td>\n",
       "      <td>102.2</td>\n",
       "      <td>9.6</td>\n",
       "      <td>11.4</td>\n",
       "      <td>99</td>\n",
       "      <td>1.8</td>\n",
       "      <td>0.0</td>\n",
       "      <td>0.0</td>\n",
       "      <td>0</td>\n",
       "      <td>...</td>\n",
       "      <td>0</td>\n",
       "      <td>0</td>\n",
       "      <td>0</td>\n",
       "      <td>0</td>\n",
       "      <td>0</td>\n",
       "      <td>1</td>\n",
       "      <td>0</td>\n",
       "      <td>0</td>\n",
       "      <td>0</td>\n",
       "      <td>0</td>\n",
       "    </tr>\n",
       "  </tbody>\n",
       "</table>\n",
       "<p>5 rows × 28 columns</p>\n",
       "</div>"
      ],
      "text/plain": [
       "   FFMC   DMC     DC  ISI  temp  RH  wind  rain  area  dayfri  ...  monthdec  \\\n",
       "0  86.2  26.2   94.3  5.1   8.2  51   6.7   0.0   0.0       1  ...         0   \n",
       "1  90.6  35.4  669.1  6.7  18.0  33   0.9   0.0   0.0       0  ...         0   \n",
       "2  90.6  43.7  686.9  6.7  14.6  33   1.3   0.0   0.0       0  ...         0   \n",
       "3  91.7  33.3   77.5  9.0   8.3  97   4.0   0.2   0.0       1  ...         0   \n",
       "4  89.3  51.3  102.2  9.6  11.4  99   1.8   0.0   0.0       0  ...         0   \n",
       "\n",
       "   monthfeb  monthjan  monthjul  monthjun  monthmar  monthmay  monthnov  \\\n",
       "0         0         0         0         0         1         0         0   \n",
       "1         0         0         0         0         0         0         0   \n",
       "2         0         0         0         0         0         0         0   \n",
       "3         0         0         0         0         1         0         0   \n",
       "4         0         0         0         0         1         0         0   \n",
       "\n",
       "   monthoct  monthsep  \n",
       "0         0         0  \n",
       "1         1         0  \n",
       "2         1         0  \n",
       "3         0         0  \n",
       "4         0         0  \n",
       "\n",
       "[5 rows x 28 columns]"
      ]
     },
     "execution_count": 9,
     "metadata": {},
     "output_type": "execute_result"
    }
   ],
   "source": [
    "x = df_ff.iloc[:,0:-1]\n",
    "x.head()"
   ]
  },
  {
   "cell_type": "code",
   "execution_count": 10,
   "id": "e3fb8b50",
   "metadata": {},
   "outputs": [
    {
     "data": {
      "text/plain": [
       "0    small\n",
       "1    small\n",
       "2    small\n",
       "3    small\n",
       "4    small\n",
       "Name: size_category, dtype: object"
      ]
     },
     "execution_count": 10,
     "metadata": {},
     "output_type": "execute_result"
    }
   ],
   "source": [
    "y = df_ff.iloc[:,-1]\n",
    "y.head()"
   ]
  },
  {
   "cell_type": "code",
   "execution_count": 11,
   "id": "db467fda",
   "metadata": {},
   "outputs": [
    {
     "data": {
      "text/plain": [
       "0    0\n",
       "1    0\n",
       "2    0\n",
       "3    0\n",
       "4    0\n",
       "Name: size_category, dtype: int64"
      ]
     },
     "execution_count": 11,
     "metadata": {},
     "output_type": "execute_result"
    }
   ],
   "source": [
    "y.replace(to_replace=['small','large'],value=[0,1],inplace = True)\n",
    "y.head()"
   ]
  },
  {
   "cell_type": "code",
   "execution_count": 12,
   "id": "459cc532",
   "metadata": {},
   "outputs": [
    {
     "data": {
      "text/plain": [
       "0      0\n",
       "1      0\n",
       "2      0\n",
       "3      0\n",
       "4      0\n",
       "      ..\n",
       "512    1\n",
       "513    1\n",
       "514    1\n",
       "515    0\n",
       "516    0\n",
       "Name: size_category, Length: 517, dtype: int64"
      ]
     },
     "execution_count": 12,
     "metadata": {},
     "output_type": "execute_result"
    }
   ],
   "source": [
    "y=y\n",
    "y"
   ]
  },
  {
   "cell_type": "markdown",
   "id": "eac8f434",
   "metadata": {},
   "source": [
    "### Model Building"
   ]
  },
  {
   "cell_type": "code",
   "execution_count": 13,
   "id": "8e4ca723",
   "metadata": {},
   "outputs": [],
   "source": [
    "x_train,x_test,y_train,y_test = train_test_split(x,y,test_size=0.2,random_state=10)"
   ]
  },
  {
   "cell_type": "code",
   "execution_count": 14,
   "id": "f7aca763",
   "metadata": {},
   "outputs": [],
   "source": [
    "model = tf.keras.models.Sequential()\n",
    "model.add(tf.keras.layers.Dense(15,input_dim=28,activation = 'sigmoid'))\n",
    "model.add(tf.keras.layers.Dense(10,activation='sigmoid'))\n",
    "model.add(tf.keras.layers.Dense(1,activation='sigmoid'))"
   ]
  },
  {
   "cell_type": "code",
   "execution_count": 16,
   "id": "86fd87ae",
   "metadata": {},
   "outputs": [
    {
     "name": "stdout",
     "output_type": "stream",
     "text": [
      "Model: \"sequential\"\n",
      "_________________________________________________________________\n",
      " Layer (type)                Output Shape              Param #   \n",
      "=================================================================\n",
      " dense (Dense)               (None, 15)                435       \n",
      "                                                                 \n",
      " dense_1 (Dense)             (None, 10)                160       \n",
      "                                                                 \n",
      " dense_2 (Dense)             (None, 1)                 11        \n",
      "                                                                 \n",
      "=================================================================\n",
      "Total params: 606\n",
      "Trainable params: 606\n",
      "Non-trainable params: 0\n",
      "_________________________________________________________________\n"
     ]
    }
   ],
   "source": [
    "model.summary()"
   ]
  },
  {
   "cell_type": "code",
   "execution_count": 17,
   "id": "4ea1728d",
   "metadata": {},
   "outputs": [],
   "source": [
    "# Model Compliling:- \n",
    "model.compile(loss ='binary_crossentropy', optimizer='adam', metrics=['accuracy'])"
   ]
  },
  {
   "cell_type": "code",
   "execution_count": 18,
   "id": "2708c117",
   "metadata": {},
   "outputs": [
    {
     "name": "stdout",
     "output_type": "stream",
     "text": [
      "Epoch 1/50\n",
      "5/5 [==============================] - 1s 59ms/step - loss: 0.5793 - accuracy: 0.7385 - val_loss: 0.6235 - val_accuracy: 0.7019\n",
      "Epoch 2/50\n",
      "5/5 [==============================] - 0s 10ms/step - loss: 0.5775 - accuracy: 0.7385 - val_loss: 0.6226 - val_accuracy: 0.7019\n",
      "Epoch 3/50\n",
      "5/5 [==============================] - 0s 10ms/step - loss: 0.5760 - accuracy: 0.7385 - val_loss: 0.6210 - val_accuracy: 0.7019\n",
      "Epoch 4/50\n",
      "5/5 [==============================] - 0s 11ms/step - loss: 0.5750 - accuracy: 0.7385 - val_loss: 0.6194 - val_accuracy: 0.7019\n",
      "Epoch 5/50\n",
      "5/5 [==============================] - 0s 9ms/step - loss: 0.5745 - accuracy: 0.7385 - val_loss: 0.6178 - val_accuracy: 0.7019\n",
      "Epoch 6/50\n",
      "5/5 [==============================] - 0s 10ms/step - loss: 0.5740 - accuracy: 0.7385 - val_loss: 0.6167 - val_accuracy: 0.7019\n",
      "Epoch 7/50\n",
      "5/5 [==============================] - 0s 9ms/step - loss: 0.5737 - accuracy: 0.7385 - val_loss: 0.6155 - val_accuracy: 0.7019\n",
      "Epoch 8/50\n",
      "5/5 [==============================] - 0s 12ms/step - loss: 0.5735 - accuracy: 0.7385 - val_loss: 0.6149 - val_accuracy: 0.7019\n",
      "Epoch 9/50\n",
      "5/5 [==============================] - 0s 12ms/step - loss: 0.5732 - accuracy: 0.7385 - val_loss: 0.6150 - val_accuracy: 0.7019\n",
      "Epoch 10/50\n",
      "5/5 [==============================] - 0s 12ms/step - loss: 0.5730 - accuracy: 0.7385 - val_loss: 0.6151 - val_accuracy: 0.7019\n",
      "Epoch 11/50\n",
      "5/5 [==============================] - 0s 10ms/step - loss: 0.5729 - accuracy: 0.7385 - val_loss: 0.6155 - val_accuracy: 0.7019\n",
      "Epoch 12/50\n",
      "5/5 [==============================] - 0s 10ms/step - loss: 0.5727 - accuracy: 0.7385 - val_loss: 0.6156 - val_accuracy: 0.7019\n",
      "Epoch 13/50\n",
      "5/5 [==============================] - 0s 11ms/step - loss: 0.5726 - accuracy: 0.7385 - val_loss: 0.6154 - val_accuracy: 0.7019\n",
      "Epoch 14/50\n",
      "5/5 [==============================] - 0s 11ms/step - loss: 0.5724 - accuracy: 0.7385 - val_loss: 0.6158 - val_accuracy: 0.7019\n",
      "Epoch 15/50\n",
      "5/5 [==============================] - 0s 10ms/step - loss: 0.5723 - accuracy: 0.7385 - val_loss: 0.6164 - val_accuracy: 0.7019\n",
      "Epoch 16/50\n",
      "5/5 [==============================] - 0s 10ms/step - loss: 0.5721 - accuracy: 0.7385 - val_loss: 0.6166 - val_accuracy: 0.7019\n",
      "Epoch 17/50\n",
      "5/5 [==============================] - 0s 9ms/step - loss: 0.5719 - accuracy: 0.7385 - val_loss: 0.6170 - val_accuracy: 0.7019\n",
      "Epoch 18/50\n",
      "5/5 [==============================] - 0s 11ms/step - loss: 0.5718 - accuracy: 0.7385 - val_loss: 0.6173 - val_accuracy: 0.7019\n",
      "Epoch 19/50\n",
      "5/5 [==============================] - 0s 10ms/step - loss: 0.5716 - accuracy: 0.7385 - val_loss: 0.6173 - val_accuracy: 0.7019\n",
      "Epoch 20/50\n",
      "5/5 [==============================] - 0s 9ms/step - loss: 0.5714 - accuracy: 0.7385 - val_loss: 0.6170 - val_accuracy: 0.7019\n",
      "Epoch 21/50\n",
      "5/5 [==============================] - 0s 10ms/step - loss: 0.5711 - accuracy: 0.7385 - val_loss: 0.6163 - val_accuracy: 0.7019\n",
      "Epoch 22/50\n",
      "5/5 [==============================] - 0s 10ms/step - loss: 0.5707 - accuracy: 0.7385 - val_loss: 0.6158 - val_accuracy: 0.7019\n",
      "Epoch 23/50\n",
      "5/5 [==============================] - 0s 10ms/step - loss: 0.5705 - accuracy: 0.7385 - val_loss: 0.6153 - val_accuracy: 0.7019\n",
      "Epoch 24/50\n",
      "5/5 [==============================] - 0s 11ms/step - loss: 0.5702 - accuracy: 0.7385 - val_loss: 0.6152 - val_accuracy: 0.7019\n",
      "Epoch 25/50\n",
      "5/5 [==============================] - 0s 10ms/step - loss: 0.5698 - accuracy: 0.7385 - val_loss: 0.6145 - val_accuracy: 0.7019\n",
      "Epoch 26/50\n",
      "5/5 [==============================] - 0s 11ms/step - loss: 0.5697 - accuracy: 0.7385 - val_loss: 0.6138 - val_accuracy: 0.7019\n",
      "Epoch 27/50\n",
      "5/5 [==============================] - 0s 11ms/step - loss: 0.5695 - accuracy: 0.7385 - val_loss: 0.6136 - val_accuracy: 0.7019\n",
      "Epoch 28/50\n",
      "5/5 [==============================] - 0s 17ms/step - loss: 0.5693 - accuracy: 0.7385 - val_loss: 0.6138 - val_accuracy: 0.7019\n",
      "Epoch 29/50\n",
      "5/5 [==============================] - 0s 10ms/step - loss: 0.5689 - accuracy: 0.7385 - val_loss: 0.6138 - val_accuracy: 0.7019\n",
      "Epoch 30/50\n",
      "5/5 [==============================] - 0s 9ms/step - loss: 0.5688 - accuracy: 0.7385 - val_loss: 0.6139 - val_accuracy: 0.7019\n",
      "Epoch 31/50\n",
      "5/5 [==============================] - 0s 9ms/step - loss: 0.5685 - accuracy: 0.7385 - val_loss: 0.6140 - val_accuracy: 0.7019\n",
      "Epoch 32/50\n",
      "5/5 [==============================] - 0s 9ms/step - loss: 0.5683 - accuracy: 0.7385 - val_loss: 0.6140 - val_accuracy: 0.7019\n",
      "Epoch 33/50\n",
      "5/5 [==============================] - 0s 9ms/step - loss: 0.5681 - accuracy: 0.7385 - val_loss: 0.6137 - val_accuracy: 0.7019\n",
      "Epoch 34/50\n",
      "5/5 [==============================] - 0s 9ms/step - loss: 0.5679 - accuracy: 0.7385 - val_loss: 0.6137 - val_accuracy: 0.7019\n",
      "Epoch 35/50\n",
      "5/5 [==============================] - 0s 12ms/step - loss: 0.5677 - accuracy: 0.7385 - val_loss: 0.6133 - val_accuracy: 0.7019\n",
      "Epoch 36/50\n",
      "5/5 [==============================] - 0s 9ms/step - loss: 0.5675 - accuracy: 0.7385 - val_loss: 0.6128 - val_accuracy: 0.7019\n",
      "Epoch 37/50\n",
      "5/5 [==============================] - 0s 11ms/step - loss: 0.5671 - accuracy: 0.7385 - val_loss: 0.6127 - val_accuracy: 0.7019\n",
      "Epoch 38/50\n",
      "5/5 [==============================] - 0s 10ms/step - loss: 0.5665 - accuracy: 0.7385 - val_loss: 0.6125 - val_accuracy: 0.7019\n",
      "Epoch 39/50\n",
      "5/5 [==============================] - 0s 9ms/step - loss: 0.5663 - accuracy: 0.7385 - val_loss: 0.6122 - val_accuracy: 0.7019\n",
      "Epoch 40/50\n",
      "5/5 [==============================] - 0s 11ms/step - loss: 0.5660 - accuracy: 0.7385 - val_loss: 0.6118 - val_accuracy: 0.7019\n",
      "Epoch 41/50\n",
      "5/5 [==============================] - 0s 9ms/step - loss: 0.5656 - accuracy: 0.7385 - val_loss: 0.6113 - val_accuracy: 0.7019\n",
      "Epoch 42/50\n",
      "5/5 [==============================] - 0s 10ms/step - loss: 0.5654 - accuracy: 0.7385 - val_loss: 0.6108 - val_accuracy: 0.7019\n",
      "Epoch 43/50\n",
      "5/5 [==============================] - 0s 9ms/step - loss: 0.5652 - accuracy: 0.7385 - val_loss: 0.6103 - val_accuracy: 0.7019\n",
      "Epoch 44/50\n",
      "5/5 [==============================] - 0s 9ms/step - loss: 0.5647 - accuracy: 0.7385 - val_loss: 0.6102 - val_accuracy: 0.7019\n",
      "Epoch 45/50\n",
      "5/5 [==============================] - 0s 9ms/step - loss: 0.5643 - accuracy: 0.7385 - val_loss: 0.6101 - val_accuracy: 0.7019\n",
      "Epoch 46/50\n",
      "5/5 [==============================] - 0s 9ms/step - loss: 0.5638 - accuracy: 0.7385 - val_loss: 0.6100 - val_accuracy: 0.7019\n",
      "Epoch 47/50\n",
      "5/5 [==============================] - 0s 9ms/step - loss: 0.5634 - accuracy: 0.7385 - val_loss: 0.6098 - val_accuracy: 0.7019\n",
      "Epoch 48/50\n",
      "5/5 [==============================] - 0s 10ms/step - loss: 0.5632 - accuracy: 0.7385 - val_loss: 0.6094 - val_accuracy: 0.7019\n",
      "Epoch 49/50\n",
      "5/5 [==============================] - 0s 13ms/step - loss: 0.5629 - accuracy: 0.7385 - val_loss: 0.6088 - val_accuracy: 0.7019\n",
      "Epoch 50/50\n",
      "5/5 [==============================] - 0s 12ms/step - loss: 0.5625 - accuracy: 0.7385 - val_loss: 0.6088 - val_accuracy: 0.7019\n"
     ]
    }
   ],
   "source": [
    "history = model.fit(x,y,validation_split=0.20, epochs=50, batch_size=100)"
   ]
  },
  {
   "cell_type": "code",
   "execution_count": 19,
   "id": "2a83d54b",
   "metadata": {},
   "outputs": [],
   "source": [
    "model.save_weights(\"mywt.kmw\")"
   ]
  },
  {
   "cell_type": "code",
   "execution_count": 20,
   "id": "853cdc83",
   "metadata": {},
   "outputs": [
    {
     "name": "stdout",
     "output_type": "stream",
     "text": [
      "17/17 [==============================] - 0s 2ms/step - loss: 0.5711 - accuracy: 0.7311\n",
      "accuracy: 73.11%\n"
     ]
    }
   ],
   "source": [
    "# Model Evaluating:-\n",
    "scores = model.evaluate(x,y)\n",
    "print(\"%s: %.2f%%\" % (model.metrics_names[1], scores[1]*100))"
   ]
  },
  {
   "cell_type": "code",
   "execution_count": 21,
   "id": "7f8d196c",
   "metadata": {},
   "outputs": [
    {
     "data": {
      "text/plain": [
       "dict_keys([])"
      ]
     },
     "execution_count": 21,
     "metadata": {},
     "output_type": "execute_result"
    }
   ],
   "source": [
    "model.history.history.keys()"
   ]
  },
  {
   "cell_type": "code",
   "execution_count": 22,
   "id": "28ec75b8",
   "metadata": {},
   "outputs": [
    {
     "data": {
      "text/plain": [
       "dict_keys(['loss', 'accuracy', 'val_loss', 'val_accuracy'])"
      ]
     },
     "execution_count": 22,
     "metadata": {},
     "output_type": "execute_result"
    }
   ],
   "source": [
    "history.history.keys()"
   ]
  },
  {
   "cell_type": "code",
   "execution_count": 23,
   "id": "6345f962",
   "metadata": {},
   "outputs": [
    {
     "data": {
      "image/png": "[encoded data removed]",
      "text/plain": [
       "<Figure size 640x480 with 1 Axes>"
      ]
     },
     "metadata": {},
     "output_type": "display_data"
    }
   ],
   "source": [
    "# Summarize history for accuracy\n",
    "plt.plot(history.history['accuracy'])\n",
    "plt.plot(history.history['val_accuracy'])\n",
    "plt.title('model accuracy')\n",
    "plt.ylabel('accuracy')\n",
    "plt.xlabel('epoch')\n",
    "plt.legend(['train','test'],loc='upper left')\n",
    "plt.show()"
   ]
  },
  {
   "cell_type": "code",
   "execution_count": 24,
   "id": "8695e289",
   "metadata": {},
   "outputs": [
    {
     "data": {
      "image/png": "[encoded data removed]",
      "text/plain": [
       "<Figure size 640x480 with 1 Axes>"
      ]
     },
     "metadata": {},
     "output_type": "display_data"
    }
   ],
   "source": [
    "# Summarize history for loss\n",
    "plt.plot(history.history['loss'])\n",
    "plt.plot(history.history['val_loss'])\n",
    "plt.title('model loss')\n",
    "plt.ylabel('loss')\n",
    "plt.xlabel('epoch')\n",
    "plt.legend(['train','test'],loc='upper left')\n",
    "plt.show()"
   ]
  },
  {
   "cell_type": "code",
   "execution_count": 25,
   "id": "40955db5",
   "metadata": {},
   "outputs": [],
   "source": [
    "#Using ReLU\n",
    "model = tf.keras.models.Sequential()\n",
    "model.add(tf.keras.layers.Dense(15,input_dim=28,activation = 'ReLU'))\n",
    "model.add(tf.keras.layers.Dense(10,activation='ReLU'))\n",
    "model.add(tf.keras.layers.Dense(1,activation='ReLU'))"
   ]
  },
  {
   "cell_type": "code",
   "execution_count": 26,
   "id": "d4c62b58",
   "metadata": {},
   "outputs": [],
   "source": [
    "model.compile(loss ='binary_crossentropy', optimizer='adam', metrics=['accuracy'])"
   ]
  },
  {
   "cell_type": "code",
   "execution_count": 27,
   "id": "b7c776fa",
   "metadata": {},
   "outputs": [
    {
     "name": "stdout",
     "output_type": "stream",
     "text": [
      "Epoch 1/50\n",
      "5/5 [==============================] - 1s 41ms/step - loss: 11.2615 - accuracy: 0.2615 - val_loss: 10.7073 - val_accuracy: 0.2981\n",
      "Epoch 2/50\n",
      "5/5 [==============================] - 0s 10ms/step - loss: 11.2615 - accuracy: 0.2615 - val_loss: 10.7073 - val_accuracy: 0.2981\n",
      "Epoch 3/50\n",
      "5/5 [==============================] - 0s 9ms/step - loss: 11.2615 - accuracy: 0.2615 - val_loss: 10.7073 - val_accuracy: 0.2981\n",
      "Epoch 4/50\n",
      "5/5 [==============================] - 0s 11ms/step - loss: 11.2615 - accuracy: 0.2615 - val_loss: 10.7073 - val_accuracy: 0.2981\n",
      "Epoch 5/50\n",
      "5/5 [==============================] - 0s 9ms/step - loss: 11.2615 - accuracy: 0.2615 - val_loss: 10.7073 - val_accuracy: 0.2981\n",
      "Epoch 6/50\n",
      "5/5 [==============================] - 0s 11ms/step - loss: 11.2615 - accuracy: 0.2615 - val_loss: 10.7073 - val_accuracy: 0.2981\n",
      "Epoch 7/50\n",
      "5/5 [==============================] - 0s 10ms/step - loss: 11.2615 - accuracy: 0.2615 - val_loss: 10.7073 - val_accuracy: 0.2981\n",
      "Epoch 8/50\n",
      "5/5 [==============================] - 0s 10ms/step - loss: 11.2615 - accuracy: 0.2615 - val_loss: 10.7073 - val_accuracy: 0.2981\n",
      "Epoch 9/50\n",
      "5/5 [==============================] - 0s 9ms/step - loss: 11.2615 - accuracy: 0.2615 - val_loss: 10.7073 - val_accuracy: 0.2981\n",
      "Epoch 10/50\n",
      "5/5 [==============================] - 0s 12ms/step - loss: 11.2615 - accuracy: 0.2615 - val_loss: 10.7073 - val_accuracy: 0.2981\n",
      "Epoch 11/50\n",
      "5/5 [==============================] - 0s 9ms/step - loss: 11.2615 - accuracy: 0.2615 - val_loss: 10.7073 - val_accuracy: 0.2981\n",
      "Epoch 12/50\n",
      "5/5 [==============================] - 0s 9ms/step - loss: 11.2615 - accuracy: 0.2615 - val_loss: 10.7073 - val_accuracy: 0.2981\n",
      "Epoch 13/50\n",
      "5/5 [==============================] - 0s 11ms/step - loss: 11.2615 - accuracy: 0.2615 - val_loss: 10.7073 - val_accuracy: 0.2981\n",
      "Epoch 14/50\n",
      "5/5 [==============================] - 0s 10ms/step - loss: 11.2615 - accuracy: 0.2615 - val_loss: 10.7073 - val_accuracy: 0.2981\n",
      "Epoch 15/50\n",
      "5/5 [==============================] - 0s 9ms/step - loss: 11.2615 - accuracy: 0.2615 - val_loss: 10.7073 - val_accuracy: 0.2981\n",
      "Epoch 16/50\n",
      "5/5 [==============================] - 0s 12ms/step - loss: 11.2615 - accuracy: 0.2615 - val_loss: 10.7073 - val_accuracy: 0.2981\n",
      "Epoch 17/50\n",
      "5/5 [==============================] - 0s 12ms/step - loss: 11.2615 - accuracy: 0.2615 - val_loss: 10.7073 - val_accuracy: 0.2981\n",
      "Epoch 18/50\n",
      "5/5 [==============================] - 0s 9ms/step - loss: 11.2615 - accuracy: 0.2615 - val_loss: 10.7073 - val_accuracy: 0.2981\n",
      "Epoch 19/50\n",
      "5/5 [==============================] - 0s 10ms/step - loss: 11.2615 - accuracy: 0.2615 - val_loss: 10.7073 - val_accuracy: 0.2981\n",
      "Epoch 20/50\n",
      "5/5 [==============================] - 0s 10ms/step - loss: 11.2615 - accuracy: 0.2615 - val_loss: 10.7073 - val_accuracy: 0.2981\n",
      "Epoch 21/50\n",
      "5/5 [==============================] - 0s 12ms/step - loss: 11.2615 - accuracy: 0.2615 - val_loss: 10.7073 - val_accuracy: 0.2981\n",
      "Epoch 22/50\n",
      "5/5 [==============================] - 0s 11ms/step - loss: 11.2615 - accuracy: 0.2615 - val_loss: 10.7073 - val_accuracy: 0.2981\n",
      "Epoch 23/50\n",
      "5/5 [==============================] - 0s 14ms/step - loss: 11.2615 - accuracy: 0.2615 - val_loss: 10.7073 - val_accuracy: 0.2981\n",
      "Epoch 24/50\n",
      "5/5 [==============================] - 0s 12ms/step - loss: 11.2615 - accuracy: 0.2615 - val_loss: 10.7073 - val_accuracy: 0.2981\n",
      "Epoch 25/50\n",
      "5/5 [==============================] - 0s 11ms/step - loss: 11.2615 - accuracy: 0.2615 - val_loss: 10.7073 - val_accuracy: 0.2981\n",
      "Epoch 26/50\n",
      "5/5 [==============================] - 0s 12ms/step - loss: 11.2615 - accuracy: 0.2615 - val_loss: 10.7073 - val_accuracy: 0.2981\n",
      "Epoch 27/50\n",
      "5/5 [==============================] - 0s 11ms/step - loss: 11.2615 - accuracy: 0.2615 - val_loss: 10.7073 - val_accuracy: 0.2981\n",
      "Epoch 28/50\n",
      "5/5 [==============================] - 0s 11ms/step - loss: 11.2615 - accuracy: 0.2615 - val_loss: 10.7073 - val_accuracy: 0.2981\n",
      "Epoch 29/50\n",
      "5/5 [==============================] - 0s 9ms/step - loss: 11.2615 - accuracy: 0.2615 - val_loss: 10.7073 - val_accuracy: 0.2981\n",
      "Epoch 30/50\n",
      "5/5 [==============================] - 0s 10ms/step - loss: 11.2615 - accuracy: 0.2615 - val_loss: 10.7073 - val_accuracy: 0.2981\n",
      "Epoch 31/50\n",
      "5/5 [==============================] - 0s 12ms/step - loss: 11.2615 - accuracy: 0.2615 - val_loss: 10.7073 - val_accuracy: 0.2981\n",
      "Epoch 32/50\n",
      "5/5 [==============================] - 0s 18ms/step - loss: 11.2615 - accuracy: 0.2615 - val_loss: 10.7073 - val_accuracy: 0.2981\n",
      "Epoch 33/50\n",
      "5/5 [==============================] - 0s 9ms/step - loss: 11.2615 - accuracy: 0.2615 - val_loss: 10.7073 - val_accuracy: 0.2981\n",
      "Epoch 34/50\n",
      "5/5 [==============================] - 0s 9ms/step - loss: 11.2615 - accuracy: 0.2615 - val_loss: 10.7073 - val_accuracy: 0.2981\n",
      "Epoch 35/50\n",
      "5/5 [==============================] - 0s 9ms/step - loss: 11.2615 - accuracy: 0.2615 - val_loss: 10.7073 - val_accuracy: 0.2981\n",
      "Epoch 36/50\n",
      "5/5 [==============================] - 0s 8ms/step - loss: 11.2615 - accuracy: 0.2615 - val_loss: 10.7073 - val_accuracy: 0.2981\n",
      "Epoch 37/50\n",
      "5/5 [==============================] - 0s 10ms/step - loss: 11.2615 - accuracy: 0.2615 - val_loss: 10.7073 - val_accuracy: 0.2981\n",
      "Epoch 38/50\n",
      "5/5 [==============================] - 0s 11ms/step - loss: 11.2615 - accuracy: 0.2615 - val_loss: 10.7073 - val_accuracy: 0.2981\n",
      "Epoch 39/50\n",
      "5/5 [==============================] - 0s 9ms/step - loss: 11.2615 - accuracy: 0.2615 - val_loss: 10.7073 - val_accuracy: 0.2981\n",
      "Epoch 40/50\n",
      "5/5 [==============================] - 0s 10ms/step - loss: 11.2615 - accuracy: 0.2615 - val_loss: 10.7073 - val_accuracy: 0.2981\n",
      "Epoch 41/50\n",
      "5/5 [==============================] - 0s 9ms/step - loss: 11.2615 - accuracy: 0.2615 - val_loss: 10.7073 - val_accuracy: 0.2981\n",
      "Epoch 42/50\n",
      "5/5 [==============================] - 0s 9ms/step - loss: 11.2615 - accuracy: 0.2615 - val_loss: 10.7073 - val_accuracy: 0.2981\n",
      "Epoch 43/50\n",
      "5/5 [==============================] - 0s 8ms/step - loss: 11.2615 - accuracy: 0.2615 - val_loss: 10.7073 - val_accuracy: 0.2981\n",
      "Epoch 44/50\n",
      "5/5 [==============================] - 0s 10ms/step - loss: 11.2615 - accuracy: 0.2615 - val_loss: 10.7073 - val_accuracy: 0.2981\n",
      "Epoch 45/50\n",
      "5/5 [==============================] - 0s 8ms/step - loss: 11.2615 - accuracy: 0.2615 - val_loss: 10.7073 - val_accuracy: 0.2981\n",
      "Epoch 46/50\n",
      "5/5 [==============================] - 0s 9ms/step - loss: 11.2615 - accuracy: 0.2615 - val_loss: 10.7073 - val_accuracy: 0.2981\n",
      "Epoch 47/50\n",
      "5/5 [==============================] - 0s 9ms/step - loss: 11.2615 - accuracy: 0.2615 - val_loss: 10.7073 - val_accuracy: 0.2981\n",
      "Epoch 48/50\n",
      "5/5 [==============================] - 0s 9ms/step - loss: 11.2615 - accuracy: 0.2615 - val_loss: 10.7073 - val_accuracy: 0.2981\n",
      "Epoch 49/50\n",
      "5/5 [==============================] - 0s 9ms/step - loss: 11.2615 - accuracy: 0.2615 - val_loss: 10.7073 - val_accuracy: 0.2981\n",
      "Epoch 50/50\n",
      "5/5 [==============================] - 0s 12ms/step - loss: 11.2615 - accuracy: 0.2615 - val_loss: 10.7073 - val_accuracy: 0.2981\n"
     ]
    }
   ],
   "source": [
    "history = model.fit(x,y,validation_split=0.20, epochs=50, batch_size=100)"
   ]
  },
  {
   "cell_type": "code",
   "execution_count": 28,
   "id": "607328e0",
   "metadata": {},
   "outputs": [],
   "source": [
    "model.save_weights(\"mywt.kmw\")"
   ]
  },
  {
   "cell_type": "code",
   "execution_count": 29,
   "id": "623b77ce",
   "metadata": {},
   "outputs": [
    {
     "name": "stdout",
     "output_type": "stream",
     "text": [
      "17/17 [==============================] - 0s 1ms/step - loss: 11.1500 - accuracy: 0.2689\n",
      "accuracy: 26.89%\n"
     ]
    }
   ],
   "source": [
    "scores = model.evaluate(x,y)\n",
    "print(\"%s: %.2f%%\" % (model.metrics_names[1], scores[1]*100))"
   ]
  },
  {
   "cell_type": "code",
   "execution_count": 30,
   "id": "931df4bc",
   "metadata": {},
   "outputs": [
    {
     "data": {
      "image/png": "[encoded data removed]",
      "text/plain": [
       "<Figure size 640x480 with 1 Axes>"
      ]
     },
     "metadata": {},
     "output_type": "display_data"
    }
   ],
   "source": [
    "#summarize history for accuracy\n",
    "plt.plot(history.history['accuracy'])\n",
    "plt.plot(history.history['val_accuracy'])\n",
    "plt.title('model accuracy')\n",
    "plt.ylabel('accuracy')\n",
    "plt.xlabel('epoch')\n",
    "plt.legend(['train','test'],loc='upper left')\n",
    "plt.show()"
   ]
  },
  {
   "cell_type": "code",
   "execution_count": 31,
   "id": "d47a40e3",
   "metadata": {},
   "outputs": [
    {
     "data": {
      "image/png": "[encoded data removed]",
      "text/plain": [
       "<Figure size 640x480 with 1 Axes>"
      ]
     },
     "metadata": {},
     "output_type": "display_data"
    }
   ],
   "source": [
    "#summarize history for loss\n",
    "plt.plot(history.history['loss'])\n",
    "plt.plot(history.history['val_loss'])\n",
    "plt.title('model loss')\n",
    "plt.ylabel('loss')\n",
    "plt.xlabel('epoch')\n",
    "plt.legend(['train','test'],loc='upper left')\n",
    "plt.show()"
   ]
  },
  {
   "cell_type": "code",
   "execution_count": null,
   "id": "75d7f2c5",
   "metadata": {},
   "outputs": [],
   "source": []
  }
 ],
 "metadata": {
  "kernelspec": {
   "display_name": "Python 3 (ipykernel)",
   "language": "python",
   "name": "python3"
  },
  "language_info": {
   "codemirror_mode": {
    "name": "ipython",
    "version": 3
   },
   "file_extension": ".py",
   "mimetype": "text/x-python",
   "name": "python",
   "nbconvert_exporter": "python",
   "pygments_lexer": "ipython3",
   "version": "3.10.7"
  }
 },
 "nbformat": 4,
 "nbformat_minor": 5
}
