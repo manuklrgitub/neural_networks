{
 "cells": [
  {
   "cell_type": "markdown",
   "id": "12415e56",
   "metadata": {},
   "source": [
    "## Problem Statement "
   ]
  },
  {
   "cell_type": "markdown",
   "id": "bf4c4a88",
   "metadata": {},
   "source": [
    "#### Predicting turbine energy yield (TEY) using ambient variables as features."
   ]
  },
  {
   "cell_type": "markdown",
   "id": "f1dd195b",
   "metadata": {},
   "source": [
    "### Import all the required libraries"
   ]
  },
  {
   "cell_type": "code",
   "execution_count": 65,
   "id": "c8afc881",
   "metadata": {},
   "outputs": [],
   "source": [
    "import numpy as np\n",
    "import pandas as pd\n",
    "\n",
    "import matplotlib.pyplot as plt\n",
    "import seaborn as sns\n",
    "\n",
    "from sklearn.model_selection import train_test_split\n",
    "import tensorflow as tf\n",
    "from sklearn.metrics import mean_squared_error\n",
    "\n",
    "from sklearn.model_selection import RandomizedSearchCV, KFold\n",
    "from keras.optimizers import Adam\n",
    "from keras.wrappers.scikit_learn import KerasRegressor\n",
    "\n",
    "import warnings\n",
    "warnings.filterwarnings('ignore')"
   ]
  },
  {
   "cell_type": "code",
   "execution_count": 66,
   "id": "51546a6f",
   "metadata": {},
   "outputs": [
    {
     "data": {
      "text/html": [
       "<div>\n",
       "<style scoped>\n",
       "    .dataframe tbody tr th:only-of-type {\n",
       "        vertical-align: middle;\n",
       "    }\n",
       "\n",
       "    .dataframe tbody tr th {\n",
       "        vertical-align: top;\n",
       "    }\n",
       "\n",
       "    .dataframe thead th {\n",
       "        text-align: right;\n",
       "    }\n",
       "</style>\n",
       "<table border=\"1\" class=\"dataframe\">\n",
       "  <thead>\n",
       "    <tr style=\"text-align: right;\">\n",
       "      <th></th>\n",
       "      <th>AT</th>\n",
       "      <th>AP</th>\n",
       "      <th>AH</th>\n",
       "      <th>AFDP</th>\n",
       "      <th>GTEP</th>\n",
       "      <th>TIT</th>\n",
       "      <th>TAT</th>\n",
       "      <th>TEY</th>\n",
       "      <th>CDP</th>\n",
       "      <th>CO</th>\n",
       "      <th>NOX</th>\n",
       "    </tr>\n",
       "  </thead>\n",
       "  <tbody>\n",
       "    <tr>\n",
       "      <th>0</th>\n",
       "      <td>6.8594</td>\n",
       "      <td>1007.9</td>\n",
       "      <td>96.799</td>\n",
       "      <td>3.5000</td>\n",
       "      <td>19.663</td>\n",
       "      <td>1059.2</td>\n",
       "      <td>550.00</td>\n",
       "      <td>114.70</td>\n",
       "      <td>10.605</td>\n",
       "      <td>3.1547</td>\n",
       "      <td>82.722</td>\n",
       "    </tr>\n",
       "    <tr>\n",
       "      <th>1</th>\n",
       "      <td>6.7850</td>\n",
       "      <td>1008.4</td>\n",
       "      <td>97.118</td>\n",
       "      <td>3.4998</td>\n",
       "      <td>19.728</td>\n",
       "      <td>1059.3</td>\n",
       "      <td>550.00</td>\n",
       "      <td>114.72</td>\n",
       "      <td>10.598</td>\n",
       "      <td>3.2363</td>\n",
       "      <td>82.776</td>\n",
       "    </tr>\n",
       "    <tr>\n",
       "      <th>2</th>\n",
       "      <td>6.8977</td>\n",
       "      <td>1008.8</td>\n",
       "      <td>95.939</td>\n",
       "      <td>3.4824</td>\n",
       "      <td>19.779</td>\n",
       "      <td>1059.4</td>\n",
       "      <td>549.87</td>\n",
       "      <td>114.71</td>\n",
       "      <td>10.601</td>\n",
       "      <td>3.2012</td>\n",
       "      <td>82.468</td>\n",
       "    </tr>\n",
       "    <tr>\n",
       "      <th>3</th>\n",
       "      <td>7.0569</td>\n",
       "      <td>1009.2</td>\n",
       "      <td>95.249</td>\n",
       "      <td>3.4805</td>\n",
       "      <td>19.792</td>\n",
       "      <td>1059.6</td>\n",
       "      <td>549.99</td>\n",
       "      <td>114.72</td>\n",
       "      <td>10.606</td>\n",
       "      <td>3.1923</td>\n",
       "      <td>82.670</td>\n",
       "    </tr>\n",
       "    <tr>\n",
       "      <th>4</th>\n",
       "      <td>7.3978</td>\n",
       "      <td>1009.7</td>\n",
       "      <td>95.150</td>\n",
       "      <td>3.4976</td>\n",
       "      <td>19.765</td>\n",
       "      <td>1059.7</td>\n",
       "      <td>549.98</td>\n",
       "      <td>114.72</td>\n",
       "      <td>10.612</td>\n",
       "      <td>3.2484</td>\n",
       "      <td>82.311</td>\n",
       "    </tr>\n",
       "  </tbody>\n",
       "</table>\n",
       "</div>"
      ],
      "text/plain": [
       "       AT      AP      AH    AFDP    GTEP     TIT     TAT     TEY     CDP  \\\n",
       "0  6.8594  1007.9  96.799  3.5000  19.663  1059.2  550.00  114.70  10.605   \n",
       "1  6.7850  1008.4  97.118  3.4998  19.728  1059.3  550.00  114.72  10.598   \n",
       "2  6.8977  1008.8  95.939  3.4824  19.779  1059.4  549.87  114.71  10.601   \n",
       "3  7.0569  1009.2  95.249  3.4805  19.792  1059.6  549.99  114.72  10.606   \n",
       "4  7.3978  1009.7  95.150  3.4976  19.765  1059.7  549.98  114.72  10.612   \n",
       "\n",
       "       CO     NOX  \n",
       "0  3.1547  82.722  \n",
       "1  3.2363  82.776  \n",
       "2  3.2012  82.468  \n",
       "3  3.1923  82.670  \n",
       "4  3.2484  82.311  "
      ]
     },
     "execution_count": 66,
     "metadata": {},
     "output_type": "execute_result"
    }
   ],
   "source": [
    "df_gt = pd.read_csv(\"gas_turbines.csv\")\n",
    "df_gt.head()"
   ]
  },
  {
   "cell_type": "code",
   "execution_count": 67,
   "id": "d46194ec",
   "metadata": {},
   "outputs": [
    {
     "data": {
      "text/plain": [
       "(15039, 11)"
      ]
     },
     "execution_count": 67,
     "metadata": {},
     "output_type": "execute_result"
    }
   ],
   "source": [
    "#Shape of the dataset:-\n",
    "df_gt.shape"
   ]
  },
  {
   "cell_type": "code",
   "execution_count": 68,
   "id": "8bfc2f35",
   "metadata": {},
   "outputs": [
    {
     "data": {
      "text/plain": [
       "AT      float64\n",
       "AP      float64\n",
       "AH      float64\n",
       "AFDP    float64\n",
       "GTEP    float64\n",
       "TIT     float64\n",
       "TAT     float64\n",
       "TEY     float64\n",
       "CDP     float64\n",
       "CO      float64\n",
       "NOX     float64\n",
       "dtype: object"
      ]
     },
     "execution_count": 68,
     "metadata": {},
     "output_type": "execute_result"
    }
   ],
   "source": [
    "##Checking datatypes:-\n",
    "df_gt.dtypes"
   ]
  },
  {
   "cell_type": "code",
   "execution_count": 69,
   "id": "432d50e9",
   "metadata": {},
   "outputs": [
    {
     "data": {
      "text/plain": [
       "AT      0\n",
       "AP      0\n",
       "AH      0\n",
       "AFDP    0\n",
       "GTEP    0\n",
       "TIT     0\n",
       "TAT     0\n",
       "TEY     0\n",
       "CDP     0\n",
       "CO      0\n",
       "NOX     0\n",
       "dtype: int64"
      ]
     },
     "execution_count": 69,
     "metadata": {},
     "output_type": "execute_result"
    }
   ],
   "source": [
    "##Checking null values:-\n",
    "df_gt.isnull().sum()"
   ]
  },
  {
   "cell_type": "code",
   "execution_count": 70,
   "id": "ef830630",
   "metadata": {},
   "outputs": [
    {
     "data": {
      "text/plain": [
       "Index(['AT', 'AP', 'AH', 'AFDP', 'GTEP', 'TIT', 'TAT', 'TEY', 'CDP', 'CO',\n",
       "       'NOX'],\n",
       "      dtype='object')"
      ]
     },
     "execution_count": 70,
     "metadata": {},
     "output_type": "execute_result"
    }
   ],
   "source": [
    "df_gt.columns"
   ]
  },
  {
   "cell_type": "code",
   "execution_count": 71,
   "id": "2c8630ee",
   "metadata": {},
   "outputs": [],
   "source": [
    "df_gt=df_gt.loc[:,['AT', 'AP', 'AH', 'AFDP', 'GTEP', 'TIT', 'TAT', 'CDP', 'CO','NOX','TEY']]"
   ]
  },
  {
   "cell_type": "code",
   "execution_count": 72,
   "id": "233a075a",
   "metadata": {},
   "outputs": [
    {
     "data": {
      "text/html": [
       "<div>\n",
       "<style scoped>\n",
       "    .dataframe tbody tr th:only-of-type {\n",
       "        vertical-align: middle;\n",
       "    }\n",
       "\n",
       "    .dataframe tbody tr th {\n",
       "        vertical-align: top;\n",
       "    }\n",
       "\n",
       "    .dataframe thead th {\n",
       "        text-align: right;\n",
       "    }\n",
       "</style>\n",
       "<table border=\"1\" class=\"dataframe\">\n",
       "  <thead>\n",
       "    <tr style=\"text-align: right;\">\n",
       "      <th></th>\n",
       "      <th>AT</th>\n",
       "      <th>AP</th>\n",
       "      <th>AH</th>\n",
       "      <th>AFDP</th>\n",
       "      <th>GTEP</th>\n",
       "      <th>TIT</th>\n",
       "      <th>TAT</th>\n",
       "      <th>CDP</th>\n",
       "      <th>CO</th>\n",
       "      <th>NOX</th>\n",
       "      <th>TEY</th>\n",
       "    </tr>\n",
       "  </thead>\n",
       "  <tbody>\n",
       "    <tr>\n",
       "      <th>0</th>\n",
       "      <td>6.8594</td>\n",
       "      <td>1007.9</td>\n",
       "      <td>96.799</td>\n",
       "      <td>3.5000</td>\n",
       "      <td>19.663</td>\n",
       "      <td>1059.2</td>\n",
       "      <td>550.00</td>\n",
       "      <td>10.605</td>\n",
       "      <td>3.1547</td>\n",
       "      <td>82.722</td>\n",
       "      <td>114.70</td>\n",
       "    </tr>\n",
       "    <tr>\n",
       "      <th>1</th>\n",
       "      <td>6.7850</td>\n",
       "      <td>1008.4</td>\n",
       "      <td>97.118</td>\n",
       "      <td>3.4998</td>\n",
       "      <td>19.728</td>\n",
       "      <td>1059.3</td>\n",
       "      <td>550.00</td>\n",
       "      <td>10.598</td>\n",
       "      <td>3.2363</td>\n",
       "      <td>82.776</td>\n",
       "      <td>114.72</td>\n",
       "    </tr>\n",
       "    <tr>\n",
       "      <th>2</th>\n",
       "      <td>6.8977</td>\n",
       "      <td>1008.8</td>\n",
       "      <td>95.939</td>\n",
       "      <td>3.4824</td>\n",
       "      <td>19.779</td>\n",
       "      <td>1059.4</td>\n",
       "      <td>549.87</td>\n",
       "      <td>10.601</td>\n",
       "      <td>3.2012</td>\n",
       "      <td>82.468</td>\n",
       "      <td>114.71</td>\n",
       "    </tr>\n",
       "    <tr>\n",
       "      <th>3</th>\n",
       "      <td>7.0569</td>\n",
       "      <td>1009.2</td>\n",
       "      <td>95.249</td>\n",
       "      <td>3.4805</td>\n",
       "      <td>19.792</td>\n",
       "      <td>1059.6</td>\n",
       "      <td>549.99</td>\n",
       "      <td>10.606</td>\n",
       "      <td>3.1923</td>\n",
       "      <td>82.670</td>\n",
       "      <td>114.72</td>\n",
       "    </tr>\n",
       "    <tr>\n",
       "      <th>4</th>\n",
       "      <td>7.3978</td>\n",
       "      <td>1009.7</td>\n",
       "      <td>95.150</td>\n",
       "      <td>3.4976</td>\n",
       "      <td>19.765</td>\n",
       "      <td>1059.7</td>\n",
       "      <td>549.98</td>\n",
       "      <td>10.612</td>\n",
       "      <td>3.2484</td>\n",
       "      <td>82.311</td>\n",
       "      <td>114.72</td>\n",
       "    </tr>\n",
       "  </tbody>\n",
       "</table>\n",
       "</div>"
      ],
      "text/plain": [
       "       AT      AP      AH    AFDP    GTEP     TIT     TAT     CDP      CO  \\\n",
       "0  6.8594  1007.9  96.799  3.5000  19.663  1059.2  550.00  10.605  3.1547   \n",
       "1  6.7850  1008.4  97.118  3.4998  19.728  1059.3  550.00  10.598  3.2363   \n",
       "2  6.8977  1008.8  95.939  3.4824  19.779  1059.4  549.87  10.601  3.2012   \n",
       "3  7.0569  1009.2  95.249  3.4805  19.792  1059.6  549.99  10.606  3.1923   \n",
       "4  7.3978  1009.7  95.150  3.4976  19.765  1059.7  549.98  10.612  3.2484   \n",
       "\n",
       "      NOX     TEY  \n",
       "0  82.722  114.70  \n",
       "1  82.776  114.72  \n",
       "2  82.468  114.71  \n",
       "3  82.670  114.72  \n",
       "4  82.311  114.72  "
      ]
     },
     "execution_count": 72,
     "metadata": {},
     "output_type": "execute_result"
    }
   ],
   "source": [
    "df_gt.head()"
   ]
  },
  {
   "cell_type": "code",
   "execution_count": 73,
   "id": "05b49eea",
   "metadata": {},
   "outputs": [
    {
     "data": {
      "text/html": [
       "<div>\n",
       "<style scoped>\n",
       "    .dataframe tbody tr th:only-of-type {\n",
       "        vertical-align: middle;\n",
       "    }\n",
       "\n",
       "    .dataframe tbody tr th {\n",
       "        vertical-align: top;\n",
       "    }\n",
       "\n",
       "    .dataframe thead th {\n",
       "        text-align: right;\n",
       "    }\n",
       "</style>\n",
       "<table border=\"1\" class=\"dataframe\">\n",
       "  <thead>\n",
       "    <tr style=\"text-align: right;\">\n",
       "      <th></th>\n",
       "      <th>AT</th>\n",
       "      <th>AP</th>\n",
       "      <th>AH</th>\n",
       "      <th>AFDP</th>\n",
       "      <th>GTEP</th>\n",
       "      <th>TIT</th>\n",
       "      <th>TAT</th>\n",
       "      <th>CDP</th>\n",
       "      <th>CO</th>\n",
       "      <th>NOX</th>\n",
       "    </tr>\n",
       "  </thead>\n",
       "  <tbody>\n",
       "    <tr>\n",
       "      <th>0</th>\n",
       "      <td>6.8594</td>\n",
       "      <td>1007.9</td>\n",
       "      <td>96.799</td>\n",
       "      <td>3.5000</td>\n",
       "      <td>19.663</td>\n",
       "      <td>1059.2</td>\n",
       "      <td>550.00</td>\n",
       "      <td>10.605</td>\n",
       "      <td>3.1547</td>\n",
       "      <td>82.722</td>\n",
       "    </tr>\n",
       "    <tr>\n",
       "      <th>1</th>\n",
       "      <td>6.7850</td>\n",
       "      <td>1008.4</td>\n",
       "      <td>97.118</td>\n",
       "      <td>3.4998</td>\n",
       "      <td>19.728</td>\n",
       "      <td>1059.3</td>\n",
       "      <td>550.00</td>\n",
       "      <td>10.598</td>\n",
       "      <td>3.2363</td>\n",
       "      <td>82.776</td>\n",
       "    </tr>\n",
       "    <tr>\n",
       "      <th>2</th>\n",
       "      <td>6.8977</td>\n",
       "      <td>1008.8</td>\n",
       "      <td>95.939</td>\n",
       "      <td>3.4824</td>\n",
       "      <td>19.779</td>\n",
       "      <td>1059.4</td>\n",
       "      <td>549.87</td>\n",
       "      <td>10.601</td>\n",
       "      <td>3.2012</td>\n",
       "      <td>82.468</td>\n",
       "    </tr>\n",
       "    <tr>\n",
       "      <th>3</th>\n",
       "      <td>7.0569</td>\n",
       "      <td>1009.2</td>\n",
       "      <td>95.249</td>\n",
       "      <td>3.4805</td>\n",
       "      <td>19.792</td>\n",
       "      <td>1059.6</td>\n",
       "      <td>549.99</td>\n",
       "      <td>10.606</td>\n",
       "      <td>3.1923</td>\n",
       "      <td>82.670</td>\n",
       "    </tr>\n",
       "    <tr>\n",
       "      <th>4</th>\n",
       "      <td>7.3978</td>\n",
       "      <td>1009.7</td>\n",
       "      <td>95.150</td>\n",
       "      <td>3.4976</td>\n",
       "      <td>19.765</td>\n",
       "      <td>1059.7</td>\n",
       "      <td>549.98</td>\n",
       "      <td>10.612</td>\n",
       "      <td>3.2484</td>\n",
       "      <td>82.311</td>\n",
       "    </tr>\n",
       "  </tbody>\n",
       "</table>\n",
       "</div>"
      ],
      "text/plain": [
       "       AT      AP      AH    AFDP    GTEP     TIT     TAT     CDP      CO  \\\n",
       "0  6.8594  1007.9  96.799  3.5000  19.663  1059.2  550.00  10.605  3.1547   \n",
       "1  6.7850  1008.4  97.118  3.4998  19.728  1059.3  550.00  10.598  3.2363   \n",
       "2  6.8977  1008.8  95.939  3.4824  19.779  1059.4  549.87  10.601  3.2012   \n",
       "3  7.0569  1009.2  95.249  3.4805  19.792  1059.6  549.99  10.606  3.1923   \n",
       "4  7.3978  1009.7  95.150  3.4976  19.765  1059.7  549.98  10.612  3.2484   \n",
       "\n",
       "      NOX  \n",
       "0  82.722  \n",
       "1  82.776  \n",
       "2  82.468  \n",
       "3  82.670  \n",
       "4  82.311  "
      ]
     },
     "execution_count": 73,
     "metadata": {},
     "output_type": "execute_result"
    }
   ],
   "source": [
    "x = df_gt.iloc[:,0:-1]\n",
    "x.head()"
   ]
  },
  {
   "cell_type": "code",
   "execution_count": 74,
   "id": "e252d89c",
   "metadata": {},
   "outputs": [
    {
     "data": {
      "text/plain": [
       "0    114.70\n",
       "1    114.72\n",
       "2    114.71\n",
       "3    114.72\n",
       "4    114.72\n",
       "Name: TEY, dtype: float64"
      ]
     },
     "execution_count": 74,
     "metadata": {},
     "output_type": "execute_result"
    }
   ],
   "source": [
    "y = df_gt.iloc[:,-1]\n",
    "y.head()"
   ]
  },
  {
   "cell_type": "markdown",
   "id": "aa48d5b8",
   "metadata": {},
   "source": [
    "### Model Building "
   ]
  },
  {
   "cell_type": "code",
   "execution_count": 75,
   "id": "4af012ee",
   "metadata": {},
   "outputs": [],
   "source": [
    "x_train,x_test,y_train,y_test = train_test_split(x,y,test_size=0.2,random_state=10)"
   ]
  },
  {
   "cell_type": "code",
   "execution_count": 76,
   "id": "c7717a59",
   "metadata": {},
   "outputs": [],
   "source": [
    "model = tf.keras.models.Sequential()\n",
    "model.add(tf.keras.layers.Dense(15,input_dim=10,activation='ReLU'))\n",
    "model.add(tf.keras.layers.Dense(10,activation='ReLU'))\n",
    "model.add(tf.keras.layers.Dense(1,activation='ReLU'))"
   ]
  },
  {
   "cell_type": "code",
   "execution_count": 77,
   "id": "42f31dc6",
   "metadata": {},
   "outputs": [
    {
     "name": "stdout",
     "output_type": "stream",
     "text": [
      "Model: \"sequential_6\"\n",
      "_________________________________________________________________\n",
      " Layer (type)                Output Shape              Param #   \n",
      "=================================================================\n",
      " dense_18 (Dense)            (None, 15)                165       \n",
      "                                                                 \n",
      " dense_19 (Dense)            (None, 10)                160       \n",
      "                                                                 \n",
      " dense_20 (Dense)            (None, 1)                 11        \n",
      "                                                                 \n",
      "=================================================================\n",
      "Total params: 336\n",
      "Trainable params: 336\n",
      "Non-trainable params: 0\n",
      "_________________________________________________________________\n"
     ]
    }
   ],
   "source": [
    "model.summary()"
   ]
  },
  {
   "cell_type": "code",
   "execution_count": 78,
   "id": "f6eea29d",
   "metadata": {},
   "outputs": [],
   "source": [
    "#Compile model:-\n",
    "model.compile(loss='mse',optimizer='adam',metrics=['mse','mae'])"
   ]
  },
  {
   "cell_type": "code",
   "execution_count": 79,
   "id": "b25dafd8",
   "metadata": {},
   "outputs": [
    {
     "name": "stdout",
     "output_type": "stream",
     "text": [
      "Epoch 1/50\n",
      "13/13 [==============================] - 1s 15ms/step - loss: 5814.2573 - mse: 5814.2573 - mae: 67.4302 - val_loss: 380.4173 - val_mse: 380.4173 - val_mae: 15.4128\n",
      "Epoch 2/50\n",
      "13/13 [==============================] - 0s 5ms/step - loss: 829.2094 - mse: 829.2094 - mae: 22.8264 - val_loss: 892.6927 - val_mse: 892.6927 - val_mae: 24.2111\n",
      "Epoch 3/50\n",
      "13/13 [==============================] - 0s 5ms/step - loss: 527.9042 - mse: 527.9042 - mae: 17.6004 - val_loss: 402.1062 - val_mse: 402.1062 - val_mae: 17.0936\n",
      "Epoch 4/50\n",
      "13/13 [==============================] - 0s 5ms/step - loss: 411.5605 - mse: 411.5605 - mae: 17.5496 - val_loss: 362.1705 - val_mse: 362.1705 - val_mae: 15.5155\n",
      "Epoch 5/50\n",
      "13/13 [==============================] - 0s 4ms/step - loss: 349.1175 - mse: 349.1175 - mae: 13.7363 - val_loss: 350.7408 - val_mse: 350.7408 - val_mae: 13.2214\n",
      "Epoch 6/50\n",
      "13/13 [==============================] - 0s 5ms/step - loss: 345.4942 - mse: 345.4942 - mae: 13.2640 - val_loss: 344.2613 - val_mse: 344.2613 - val_mae: 14.1212\n",
      "Epoch 7/50\n",
      "13/13 [==============================] - 0s 6ms/step - loss: 342.1508 - mse: 342.1508 - mae: 14.0145 - val_loss: 341.8290 - val_mse: 341.8290 - val_mae: 13.7087\n",
      "Epoch 8/50\n",
      "13/13 [==============================] - 0s 5ms/step - loss: 340.5953 - mse: 340.5953 - mae: 13.3963 - val_loss: 340.7284 - val_mse: 340.7284 - val_mae: 13.6051\n",
      "Epoch 9/50\n",
      "13/13 [==============================] - 0s 4ms/step - loss: 340.0081 - mse: 340.0081 - mae: 13.8906 - val_loss: 340.7186 - val_mse: 340.7186 - val_mae: 13.9459\n",
      "Epoch 10/50\n",
      "13/13 [==============================] - 0s 5ms/step - loss: 338.2657 - mse: 338.2657 - mae: 13.7385 - val_loss: 338.6152 - val_mse: 338.6152 - val_mae: 13.5418\n",
      "Epoch 11/50\n",
      "13/13 [==============================] - 0s 4ms/step - loss: 337.2307 - mse: 337.2307 - mae: 13.4526 - val_loss: 337.9298 - val_mse: 337.9298 - val_mae: 13.7445\n",
      "Epoch 12/50\n",
      "13/13 [==============================] - 0s 5ms/step - loss: 336.2672 - mse: 336.2672 - mae: 13.7358 - val_loss: 336.5971 - val_mse: 336.5971 - val_mae: 13.6582\n",
      "Epoch 13/50\n",
      "13/13 [==============================] - 0s 5ms/step - loss: 334.8371 - mse: 334.8371 - mae: 13.5410 - val_loss: 335.1414 - val_mse: 335.1414 - val_mae: 13.4230\n",
      "Epoch 14/50\n",
      "13/13 [==============================] - 0s 4ms/step - loss: 334.4330 - mse: 334.4330 - mae: 13.1634 - val_loss: 334.3048 - val_mse: 334.3048 - val_mae: 13.6627\n",
      "Epoch 15/50\n",
      "13/13 [==============================] - 0s 5ms/step - loss: 333.6141 - mse: 333.6141 - mae: 13.9123 - val_loss: 332.9522 - val_mse: 332.9522 - val_mae: 13.6189\n",
      "Epoch 16/50\n",
      "13/13 [==============================] - 0s 6ms/step - loss: 331.4315 - mse: 331.4315 - mae: 13.2818 - val_loss: 331.5503 - val_mse: 331.5503 - val_mae: 13.5609\n",
      "Epoch 17/50\n",
      "13/13 [==============================] - 0s 4ms/step - loss: 330.1344 - mse: 330.1344 - mae: 13.6672 - val_loss: 330.6752 - val_mse: 330.6752 - val_mae: 13.6941\n",
      "Epoch 18/50\n",
      "13/13 [==============================] - 0s 4ms/step - loss: 328.8285 - mse: 328.8285 - mae: 13.6464 - val_loss: 328.5409 - val_mse: 328.5409 - val_mae: 13.3645\n",
      "Epoch 19/50\n",
      "13/13 [==============================] - 0s 5ms/step - loss: 327.2647 - mse: 327.2647 - mae: 13.1895 - val_loss: 327.4501 - val_mse: 327.4501 - val_mae: 13.5138\n",
      "Epoch 20/50\n",
      "13/13 [==============================] - 0s 5ms/step - loss: 325.7183 - mse: 325.7183 - mae: 13.4737 - val_loss: 325.7535 - val_mse: 325.7535 - val_mae: 13.3495\n",
      "Epoch 21/50\n",
      "13/13 [==============================] - 0s 5ms/step - loss: 324.6838 - mse: 324.6838 - mae: 13.0844 - val_loss: 324.7238 - val_mse: 324.7238 - val_mae: 13.5144\n",
      "Epoch 22/50\n",
      "13/13 [==============================] - 0s 6ms/step - loss: 323.0673 - mse: 323.0673 - mae: 13.5610 - val_loss: 322.7974 - val_mse: 322.7974 - val_mae: 13.2991\n",
      "Epoch 23/50\n",
      "13/13 [==============================] - 0s 5ms/step - loss: 321.2860 - mse: 321.2860 - mae: 13.1404 - val_loss: 321.9838 - val_mse: 321.9838 - val_mae: 13.5427\n",
      "Epoch 24/50\n",
      "13/13 [==============================] - 0s 4ms/step - loss: 321.3849 - mse: 321.3849 - mae: 13.7687 - val_loss: 319.7235 - val_mse: 319.7235 - val_mae: 13.0234\n",
      "Epoch 25/50\n",
      "13/13 [==============================] - 0s 5ms/step - loss: 319.5679 - mse: 319.5679 - mae: 12.8365 - val_loss: 319.7255 - val_mse: 319.7255 - val_mae: 13.6666\n",
      "Epoch 26/50\n",
      "13/13 [==============================] - 0s 5ms/step - loss: 317.9644 - mse: 317.9644 - mae: 13.6926 - val_loss: 316.6772 - val_mse: 316.6772 - val_mae: 12.9202\n",
      "Epoch 27/50\n",
      "13/13 [==============================] - 0s 5ms/step - loss: 315.9076 - mse: 315.9076 - mae: 12.8851 - val_loss: 315.7469 - val_mse: 315.7469 - val_mae: 13.4546\n",
      "Epoch 28/50\n",
      "13/13 [==============================] - 0s 4ms/step - loss: 313.6772 - mse: 313.6772 - mae: 13.3773 - val_loss: 313.3334 - val_mse: 313.3334 - val_mae: 12.8733\n",
      "Epoch 29/50\n",
      "13/13 [==============================] - 0s 5ms/step - loss: 312.3210 - mse: 312.3210 - mae: 12.8607 - val_loss: 312.1456 - val_mse: 312.1456 - val_mae: 13.3130\n",
      "Epoch 30/50\n",
      "13/13 [==============================] - 0s 5ms/step - loss: 310.1006 - mse: 310.1006 - mae: 12.9582 - val_loss: 310.3683 - val_mse: 310.3683 - val_mae: 13.2543\n",
      "Epoch 31/50\n",
      "13/13 [==============================] - 0s 5ms/step - loss: 309.1748 - mse: 309.1748 - mae: 13.3818 - val_loss: 308.2095 - val_mse: 308.2095 - val_mae: 13.0358\n",
      "Epoch 32/50\n",
      "13/13 [==============================] - 0s 5ms/step - loss: 306.7766 - mse: 306.7766 - mae: 12.8694 - val_loss: 307.1068 - val_mse: 307.1068 - val_mae: 13.2318\n",
      "Epoch 33/50\n",
      "13/13 [==============================] - 0s 4ms/step - loss: 305.7618 - mse: 305.7618 - mae: 13.2900 - val_loss: 304.7189 - val_mse: 304.7189 - val_mae: 12.9103\n",
      "Epoch 34/50\n",
      "13/13 [==============================] - 0s 5ms/step - loss: 303.3577 - mse: 303.3577 - mae: 12.9830 - val_loss: 303.2315 - val_mse: 303.2315 - val_mae: 13.0353\n",
      "Epoch 35/50\n",
      "13/13 [==============================] - 0s 5ms/step - loss: 301.5911 - mse: 301.5911 - mae: 12.9506 - val_loss: 301.2669 - val_mse: 301.2669 - val_mae: 12.8657\n",
      "Epoch 36/50\n",
      "13/13 [==============================] - 0s 4ms/step - loss: 300.0125 - mse: 300.0125 - mae: 12.7507 - val_loss: 300.0984 - val_mse: 300.0984 - val_mae: 13.0873\n",
      "Epoch 37/50\n",
      "13/13 [==============================] - 0s 5ms/step - loss: 298.1238 - mse: 298.1238 - mae: 12.9464 - val_loss: 297.7097 - val_mse: 297.7097 - val_mae: 12.7307\n",
      "Epoch 38/50\n",
      "13/13 [==============================] - 0s 4ms/step - loss: 296.3597 - mse: 296.3597 - mae: 12.7222 - val_loss: 296.3757 - val_mse: 296.3757 - val_mae: 12.9685\n",
      "Epoch 39/50\n",
      "13/13 [==============================] - 0s 4ms/step - loss: 294.6215 - mse: 294.6215 - mae: 12.7637 - val_loss: 294.6062 - val_mse: 294.6062 - val_mae: 12.9465\n",
      "Epoch 40/50\n",
      "13/13 [==============================] - 0s 4ms/step - loss: 294.3813 - mse: 294.3813 - mae: 13.1795 - val_loss: 292.3601 - val_mse: 292.3601 - val_mae: 12.5117\n",
      "Epoch 41/50\n",
      "13/13 [==============================] - 0s 4ms/step - loss: 291.1250 - mse: 291.1250 - mae: 12.6051 - val_loss: 291.0784 - val_mse: 291.0784 - val_mae: 12.8999\n",
      "Epoch 42/50\n",
      "13/13 [==============================] - 0s 4ms/step - loss: 289.2613 - mse: 289.2613 - mae: 12.6982 - val_loss: 288.7887 - val_mse: 288.7887 - val_mae: 12.6916\n",
      "Epoch 43/50\n",
      "13/13 [==============================] - 0s 4ms/step - loss: 287.3810 - mse: 287.3810 - mae: 12.5690 - val_loss: 287.4641 - val_mse: 287.4641 - val_mae: 12.8351\n",
      "Epoch 44/50\n",
      "13/13 [==============================] - 0s 4ms/step - loss: 285.8490 - mse: 285.8490 - mae: 12.8132 - val_loss: 285.2834 - val_mse: 285.2834 - val_mae: 12.2804\n",
      "Epoch 45/50\n",
      "13/13 [==============================] - 0s 4ms/step - loss: 284.8095 - mse: 284.8095 - mae: 12.3167 - val_loss: 284.8810 - val_mse: 284.8810 - val_mae: 12.9934\n",
      "Epoch 46/50\n",
      "13/13 [==============================] - 0s 4ms/step - loss: 282.1087 - mse: 282.1087 - mae: 12.4626 - val_loss: 281.3465 - val_mse: 281.3465 - val_mae: 12.4786\n",
      "Epoch 47/50\n",
      "13/13 [==============================] - 0s 4ms/step - loss: 280.4778 - mse: 280.4778 - mae: 12.5369 - val_loss: 279.5418 - val_mse: 279.5418 - val_mae: 12.4589\n",
      "Epoch 48/50\n"
     ]
    },
    {
     "name": "stdout",
     "output_type": "stream",
     "text": [
      "13/13 [==============================] - 0s 4ms/step - loss: 278.3547 - mse: 278.3547 - mae: 12.5855 - val_loss: 277.9891 - val_mse: 277.9891 - val_mae: 12.5732\n",
      "Epoch 49/50\n",
      "13/13 [==============================] - 0s 4ms/step - loss: 276.7105 - mse: 276.7105 - mae: 12.4314 - val_loss: 276.1639 - val_mse: 276.1639 - val_mae: 12.5348\n",
      "Epoch 50/50\n",
      "13/13 [==============================] - 0s 4ms/step - loss: 274.9004 - mse: 274.9004 - mae: 12.5791 - val_loss: 273.9408 - val_mse: 273.9408 - val_mae: 12.1999\n"
     ]
    }
   ],
   "source": [
    "#Fit the model:-\n",
    "history = model.fit(x_train,y_train,validation_data=(x_test,y_test),epochs=50,batch_size=1000)"
   ]
  },
  {
   "cell_type": "code",
   "execution_count": 80,
   "id": "f756b7c7",
   "metadata": {},
   "outputs": [],
   "source": [
    "model.save_weights(\"mywt.kmw\")"
   ]
  },
  {
   "cell_type": "code",
   "execution_count": 81,
   "id": "0433baec",
   "metadata": {},
   "outputs": [
    {
     "name": "stdout",
     "output_type": "stream",
     "text": [
      "376/376 [==============================] - 0s 1ms/step - loss: 273.8165 - mse: 273.8165 - mae: 12.1508\n",
      "mse: 27381.65%\n"
     ]
    }
   ],
   "source": [
    "#Evaluate the model:-\n",
    "scores = model.evaluate(x_train,y_train)\n",
    "print(\"%s: %.2f%%\" % (model.metrics_names[1], scores[1]*100))"
   ]
  },
  {
   "cell_type": "code",
   "execution_count": 82,
   "id": "e8cbd2a7",
   "metadata": {},
   "outputs": [
    {
     "data": {
      "text/plain": [
       "dict_keys([])"
      ]
     },
     "execution_count": 82,
     "metadata": {},
     "output_type": "execute_result"
    }
   ],
   "source": [
    "model.history.history.keys()"
   ]
  },
  {
   "cell_type": "code",
   "execution_count": 83,
   "id": "bc5cff2c",
   "metadata": {},
   "outputs": [
    {
     "data": {
      "text/plain": [
       "dict_keys(['loss', 'mse', 'mae', 'val_loss', 'val_mse', 'val_mae'])"
      ]
     },
     "execution_count": 83,
     "metadata": {},
     "output_type": "execute_result"
    }
   ],
   "source": [
    "history.history.keys()"
   ]
  },
  {
   "cell_type": "code",
   "execution_count": 84,
   "id": "d527bb1e",
   "metadata": {},
   "outputs": [
    {
     "data": {
      "image/png": "[encoded data removed]",
      "text/plain": [
       "<Figure size 640x480 with 1 Axes>"
      ]
     },
     "metadata": {},
     "output_type": "display_data"
    }
   ],
   "source": [
    "plt.plot(history.history['mse'])\n",
    "plt.plot(history.history['val_mse'])\n",
    "plt.title('Model mse')\n",
    "plt.ylabel('Mse')\n",
    "plt.xlabel('Epoch')\n",
    "plt.legend(['Train','Test'],loc='upper left')\n",
    "plt.show()"
   ]
  },
  {
   "cell_type": "code",
   "execution_count": 85,
   "id": "51e3a0bc",
   "metadata": {},
   "outputs": [
    {
     "data": {
      "image/png": "[encoded data removed]",
      "text/plain": [
       "<Figure size 640x480 with 1 Axes>"
      ]
     },
     "metadata": {},
     "output_type": "display_data"
    }
   ],
   "source": [
    "plt.plot(history.history['mae'])\n",
    "plt.plot(history.history['val_mae'])\n",
    "plt.title('Model mae')\n",
    "plt.ylabel('Mae')\n",
    "plt.xlabel('Epoch')\n",
    "plt.legend(['Train', 'Test'], loc='upper left')\n",
    "plt.show()"
   ]
  },
  {
   "cell_type": "code",
   "execution_count": 86,
   "id": "7c49eedf",
   "metadata": {},
   "outputs": [
    {
     "data": {
      "image/png": "[encoded data removed]",
      "text/plain": [
       "<Figure size 640x480 with 1 Axes>"
      ]
     },
     "metadata": {},
     "output_type": "display_data"
    }
   ],
   "source": [
    "# summarize history for loss\n",
    "plt.plot(history.history['loss'])\n",
    "plt.plot(history.history['val_loss'])\n",
    "plt.title('Model loss')\n",
    "plt.ylabel('Loss')\n",
    "plt.xlabel('Epoch')\n",
    "plt.legend(['Train', 'Test'], loc='upper left')\n",
    "plt.show()"
   ]
  },
  {
   "cell_type": "code",
   "execution_count": 87,
   "id": "d8d49022",
   "metadata": {},
   "outputs": [
    {
     "name": "stdout",
     "output_type": "stream",
     "text": [
      "376/376 [==============================] - 0s 936us/step\n",
      "94/94 [==============================] - 0s 1ms/step\n",
      "Training set RMSE: 16.547, Testing set RMSE: 16.551\n"
     ]
    }
   ],
   "source": [
    "#Evaluate the model:-\n",
    "y_train_pred = model.predict(x_train)\n",
    "y_test_pred = model.predict(x_test)\n",
    "\n",
    "train_rmse = mean_squared_error(y_train,y_train_pred,squared=False)\n",
    "test_rmse = mean_squared_error(y_test,y_test_pred,squared=False)\n",
    "\n",
    "print('Training set RMSE: %.3f, Testing set RMSE: %.3f' % (train_rmse,test_rmse))"
   ]
  },
  {
   "cell_type": "markdown",
   "id": "cbc4ddfd",
   "metadata": {},
   "source": [
    "### Randomzied Search CV"
   ]
  },
  {
   "cell_type": "code",
   "execution_count": 88,
   "id": "875458c7",
   "metadata": {},
   "outputs": [],
   "source": [
    "#Building a keras regression model:-\n",
    "\n",
    "def keras_reg_model(learning_rate,activation_function,init,neuron1,neuron2):\n",
    "    model = tf.keras.models.Sequential()\n",
    "    model.add(tf.keras.layers.Dense(neuron1,input_dim = 10,kernel_initializer = init,activation = activation_function))\n",
    "    model.add(tf.keras.layers.Dense(neuron2,input_dim = neuron1,kernel_initializer = init,activation = activation_function))\n",
    "    model.add(tf.keras.layers.Dense(1,activation = 'linear'))\n",
    "    adam = Adam(lr = learning_rate)\n",
    "    model.compile(loss = 'mse',optimizer = adam,metrics = ['mse','mae'])\n",
    "    return model"
   ]
  },
  {
   "cell_type": "code",
   "execution_count": 89,
   "id": "e24594ef",
   "metadata": {},
   "outputs": [],
   "source": [
    "#Wrapping the keras model in a object:-\n",
    "keras_reg = KerasRegressor(build_fn = keras_reg_model,verbose = 0)"
   ]
  },
  {
   "cell_type": "code",
   "execution_count": 90,
   "id": "25b7f350",
   "metadata": {},
   "outputs": [
    {
     "name": "stdout",
     "output_type": "stream",
     "text": [
      "Fitting 5 folds for each of 10 candidates, totalling 50 fits\n"
     ]
    }
   ],
   "source": [
    "#Define the search parameters:-\n",
    "batch_size = [10,50,100,500,1000,2000]\n",
    "epochs = [25,50,80,100,150]\n",
    "learning_rate = [0.001,0.01,0.1]\n",
    "\n",
    "activation_function = ['elu','relu','linear']\n",
    "init = ['uniform','normal','zero']\n",
    "neuron1 = [5,10,20,30]\n",
    "neuron2 = [5,10,20,30]\n",
    "\n",
    "\n",
    "# Create a dictionary of the parameters\n",
    "param_grids = dict(batch_size = batch_size,epochs = epochs,learning_rate = learning_rate,\n",
    "                   activation_function = activation_function,init = init,neuron1 = neuron1,neuron2 = neuron2)\n",
    "\n",
    "\n",
    "# Build and fit the RandomizedSearchCV\n",
    "random_search = RandomizedSearchCV(estimator = keras_reg,param_distributions = param_grids,cv = 5,n_jobs=-1,verbose = 10,\n",
    "                                   random_state=40)\n",
    "random_result = random_search.fit(x_train,y_train)"
   ]
  },
  {
   "cell_type": "code",
   "execution_count": 91,
   "id": "7a1141bf",
   "metadata": {},
   "outputs": [
    {
     "name": "stdout",
     "output_type": "stream",
     "text": [
      "Best score: -2.898885440826416\n",
      "Best parameters: {'neuron2': 30, 'neuron1': 10, 'learning_rate': 0.001, 'init': 'normal', 'epochs': 50, 'batch_size': 100, 'activation_function': 'relu'}\n"
     ]
    }
   ],
   "source": [
    "#Summarize the results\n",
    "print('Best score:',random_result.best_score_)\n",
    "print('Best parameters:',random_result.best_params_)"
   ]
  },
  {
   "cell_type": "code",
   "execution_count": 92,
   "id": "9a6c8f02",
   "metadata": {},
   "outputs": [
    {
     "name": "stdout",
     "output_type": "stream",
     "text": [
      "Epoch 1/50\n",
      "121/121 [==============================] - 1s 3ms/step - loss: 2323.9905 - mse: 2323.9905 - mae: 31.5117 - val_loss: 237.2280 - val_mse: 237.2280 - val_mae: 11.5672\n",
      "Epoch 2/50\n",
      "121/121 [==============================] - 0s 2ms/step - loss: 230.6748 - mse: 230.6748 - mae: 10.9346 - val_loss: 228.8148 - val_mse: 228.8148 - val_mae: 10.8438\n",
      "Epoch 3/50\n",
      "121/121 [==============================] - 0s 2ms/step - loss: 224.7898 - mse: 224.7898 - mae: 10.7562 - val_loss: 222.1591 - val_mse: 222.1591 - val_mae: 10.6687\n",
      "Epoch 4/50\n",
      "121/121 [==============================] - 0s 2ms/step - loss: 217.6184 - mse: 217.6184 - mae: 10.6172 - val_loss: 214.2922 - val_mse: 214.2922 - val_mae: 10.5363\n",
      "Epoch 5/50\n",
      "121/121 [==============================] - 0s 2ms/step - loss: 209.0452 - mse: 209.0452 - mae: 10.4124 - val_loss: 205.0870 - val_mse: 205.0870 - val_mae: 10.2674\n",
      "Epoch 6/50\n",
      "121/121 [==============================] - 0s 2ms/step - loss: 198.6562 - mse: 198.6562 - mae: 10.1716 - val_loss: 194.2034 - val_mse: 194.2034 - val_mae: 10.0928\n",
      "Epoch 7/50\n",
      "121/121 [==============================] - 0s 2ms/step - loss: 186.6171 - mse: 186.6171 - mae: 9.8651 - val_loss: 181.1997 - val_mse: 181.1997 - val_mae: 9.9161\n",
      "Epoch 8/50\n",
      "121/121 [==============================] - 0s 2ms/step - loss: 172.2602 - mse: 172.2602 - mae: 9.5907 - val_loss: 163.8804 - val_mse: 163.8805 - val_mae: 9.3688\n",
      "Epoch 9/50\n",
      "121/121 [==============================] - 0s 2ms/step - loss: 152.6286 - mse: 152.6286 - mae: 9.0669 - val_loss: 141.9634 - val_mse: 141.9634 - val_mae: 8.7858\n",
      "Epoch 10/50\n",
      "121/121 [==============================] - 0s 2ms/step - loss: 129.6632 - mse: 129.6632 - mae: 8.5365 - val_loss: 116.0856 - val_mse: 116.0856 - val_mae: 8.1999\n",
      "Epoch 11/50\n",
      "121/121 [==============================] - 0s 2ms/step - loss: 99.1232 - mse: 99.1232 - mae: 7.4482 - val_loss: 83.6799 - val_mse: 83.6799 - val_mae: 6.8989\n",
      "Epoch 12/50\n",
      "121/121 [==============================] - 0s 2ms/step - loss: 68.3275 - mse: 68.3275 - mae: 6.2977 - val_loss: 54.2107 - val_mse: 54.2107 - val_mae: 5.6496\n",
      "Epoch 13/50\n",
      "121/121 [==============================] - 0s 2ms/step - loss: 41.8248 - mse: 41.8248 - mae: 5.0042 - val_loss: 31.7377 - val_mse: 31.7377 - val_mae: 4.3719\n",
      "Epoch 14/50\n",
      "121/121 [==============================] - 0s 2ms/step - loss: 25.3542 - mse: 25.3542 - mae: 3.8628 - val_loss: 19.3972 - val_mse: 19.3972 - val_mae: 3.3643\n",
      "Epoch 15/50\n",
      "121/121 [==============================] - 0s 2ms/step - loss: 17.6525 - mse: 17.6525 - mae: 3.1422 - val_loss: 14.0492 - val_mse: 14.0492 - val_mae: 2.7711\n",
      "Epoch 16/50\n",
      "121/121 [==============================] - 0s 2ms/step - loss: 13.7911 - mse: 13.7911 - mae: 2.6832 - val_loss: 11.7337 - val_mse: 11.7337 - val_mae: 2.5191\n",
      "Epoch 17/50\n",
      "121/121 [==============================] - 0s 2ms/step - loss: 11.9570 - mse: 11.9570 - mae: 2.4542 - val_loss: 10.1293 - val_mse: 10.1293 - val_mae: 2.2809\n",
      "Epoch 18/50\n",
      "121/121 [==============================] - 0s 2ms/step - loss: 10.5586 - mse: 10.5586 - mae: 2.2653 - val_loss: 9.3365 - val_mse: 9.3365 - val_mae: 2.1985\n",
      "Epoch 19/50\n",
      "121/121 [==============================] - 0s 2ms/step - loss: 9.7730 - mse: 9.7730 - mae: 2.1799 - val_loss: 8.5475 - val_mse: 8.5475 - val_mae: 2.0926\n",
      "Epoch 20/50\n",
      "121/121 [==============================] - 0s 2ms/step - loss: 8.9723 - mse: 8.9723 - mae: 2.0822 - val_loss: 7.8803 - val_mse: 7.8803 - val_mae: 2.0017\n",
      "Epoch 21/50\n",
      "121/121 [==============================] - 0s 2ms/step - loss: 8.2474 - mse: 8.2474 - mae: 1.9899 - val_loss: 7.3629 - val_mse: 7.3629 - val_mae: 1.9447\n",
      "Epoch 22/50\n",
      "121/121 [==============================] - 0s 2ms/step - loss: 7.9114 - mse: 7.9114 - mae: 1.9706 - val_loss: 6.8063 - val_mse: 6.8063 - val_mae: 1.8608\n",
      "Epoch 23/50\n",
      "121/121 [==============================] - 0s 2ms/step - loss: 7.2953 - mse: 7.2953 - mae: 1.8858 - val_loss: 6.2141 - val_mse: 6.2141 - val_mae: 1.7709\n",
      "Epoch 24/50\n",
      "121/121 [==============================] - 0s 2ms/step - loss: 6.6741 - mse: 6.6741 - mae: 1.8003 - val_loss: 6.4393 - val_mse: 6.4393 - val_mae: 1.8592\n",
      "Epoch 25/50\n",
      "121/121 [==============================] - 0s 2ms/step - loss: 6.2128 - mse: 6.2128 - mae: 1.7399 - val_loss: 5.6490 - val_mse: 5.6490 - val_mae: 1.7138\n",
      "Epoch 26/50\n",
      "121/121 [==============================] - 0s 2ms/step - loss: 6.0529 - mse: 6.0529 - mae: 1.7364 - val_loss: 5.1107 - val_mse: 5.1107 - val_mae: 1.6047\n",
      "Epoch 27/50\n",
      "121/121 [==============================] - 0s 2ms/step - loss: 5.5538 - mse: 5.5538 - mae: 1.6554 - val_loss: 4.9737 - val_mse: 4.9737 - val_mae: 1.6102\n",
      "Epoch 28/50\n",
      "121/121 [==============================] - 0s 2ms/step - loss: 5.3081 - mse: 5.3081 - mae: 1.6265 - val_loss: 4.8131 - val_mse: 4.8131 - val_mae: 1.6018\n",
      "Epoch 29/50\n",
      "121/121 [==============================] - 0s 2ms/step - loss: 4.9614 - mse: 4.9614 - mae: 1.5729 - val_loss: 4.2537 - val_mse: 4.2537 - val_mae: 1.4720\n",
      "Epoch 30/50\n",
      "121/121 [==============================] - 0s 3ms/step - loss: 4.6204 - mse: 4.6204 - mae: 1.5193 - val_loss: 4.2842 - val_mse: 4.2842 - val_mae: 1.4869\n",
      "Epoch 31/50\n",
      "121/121 [==============================] - 0s 2ms/step - loss: 4.4581 - mse: 4.4581 - mae: 1.4960 - val_loss: 4.0412 - val_mse: 4.0412 - val_mae: 1.4616\n",
      "Epoch 32/50\n",
      "121/121 [==============================] - 0s 2ms/step - loss: 4.3528 - mse: 4.3528 - mae: 1.4903 - val_loss: 4.1163 - val_mse: 4.1163 - val_mae: 1.4999\n",
      "Epoch 33/50\n",
      "121/121 [==============================] - 0s 2ms/step - loss: 4.0436 - mse: 4.0436 - mae: 1.4335 - val_loss: 4.0589 - val_mse: 4.0589 - val_mae: 1.4694\n",
      "Epoch 34/50\n",
      "121/121 [==============================] - 0s 2ms/step - loss: 3.9890 - mse: 3.9890 - mae: 1.4377 - val_loss: 3.4683 - val_mse: 3.4683 - val_mae: 1.3381\n",
      "Epoch 35/50\n",
      "121/121 [==============================] - 0s 2ms/step - loss: 3.6816 - mse: 3.6816 - mae: 1.3787 - val_loss: 3.4234 - val_mse: 3.4234 - val_mae: 1.3545\n",
      "Epoch 36/50\n",
      "121/121 [==============================] - 0s 2ms/step - loss: 3.5969 - mse: 3.5969 - mae: 1.3640 - val_loss: 4.8558 - val_mse: 4.8558 - val_mae: 1.7389\n",
      "Epoch 37/50\n",
      "121/121 [==============================] - 0s 2ms/step - loss: 3.6702 - mse: 3.6702 - mae: 1.3883 - val_loss: 3.4361 - val_mse: 3.4361 - val_mae: 1.3493\n",
      "Epoch 38/50\n",
      "121/121 [==============================] - 0s 2ms/step - loss: 3.3741 - mse: 3.3741 - mae: 1.3234 - val_loss: 3.0078 - val_mse: 3.0078 - val_mae: 1.2669\n",
      "Epoch 39/50\n",
      "121/121 [==============================] - 0s 2ms/step - loss: 3.3745 - mse: 3.3745 - mae: 1.3357 - val_loss: 3.2225 - val_mse: 3.2225 - val_mae: 1.3494\n",
      "Epoch 40/50\n",
      "121/121 [==============================] - 0s 2ms/step - loss: 3.2686 - mse: 3.2686 - mae: 1.3162 - val_loss: 2.8126 - val_mse: 2.8126 - val_mae: 1.2215\n",
      "Epoch 41/50\n",
      "121/121 [==============================] - 0s 3ms/step - loss: 3.2271 - mse: 3.2271 - mae: 1.3129 - val_loss: 4.0245 - val_mse: 4.0245 - val_mae: 1.5948\n",
      "Epoch 42/50\n",
      "121/121 [==============================] - 0s 2ms/step - loss: 3.2758 - mse: 3.2758 - mae: 1.3378 - val_loss: 2.9386 - val_mse: 2.9386 - val_mae: 1.3002\n",
      "Epoch 43/50\n",
      "121/121 [==============================] - 0s 2ms/step - loss: 2.9752 - mse: 2.9752 - mae: 1.2594 - val_loss: 2.6407 - val_mse: 2.6407 - val_mae: 1.1869\n",
      "Epoch 44/50\n",
      "121/121 [==============================] - 0s 2ms/step - loss: 2.8331 - mse: 2.8331 - mae: 1.2280 - val_loss: 2.5162 - val_mse: 2.5162 - val_mae: 1.1654\n",
      "Epoch 45/50\n",
      "121/121 [==============================] - 0s 2ms/step - loss: 2.8515 - mse: 2.8515 - mae: 1.2392 - val_loss: 2.6288 - val_mse: 2.6288 - val_mae: 1.1880\n",
      "Epoch 46/50\n",
      "121/121 [==============================] - 0s 2ms/step - loss: 2.6368 - mse: 2.6368 - mae: 1.1879 - val_loss: 3.1947 - val_mse: 3.1947 - val_mae: 1.3461\n",
      "Epoch 47/50\n",
      "121/121 [==============================] - 0s 2ms/step - loss: 2.9850 - mse: 2.9850 - mae: 1.2902 - val_loss: 2.3872 - val_mse: 2.3872 - val_mae: 1.1603\n",
      "Epoch 48/50\n",
      "121/121 [==============================] - 0s 2ms/step - loss: 2.5666 - mse: 2.5666 - mae: 1.1821 - val_loss: 2.3174 - val_mse: 2.3174 - val_mae: 1.1495\n",
      "Epoch 49/50\n",
      "121/121 [==============================] - 0s 2ms/step - loss: 2.4900 - mse: 2.4900 - mae: 1.1676 - val_loss: 2.2063 - val_mse: 2.2063 - val_mae: 1.1131\n"
     ]
    },
    {
     "name": "stdout",
     "output_type": "stream",
     "text": [
      "Epoch 50/50\n",
      "121/121 [==============================] - 0s 2ms/step - loss: 2.4955 - mse: 2.4955 - mae: 1.1730 - val_loss: 2.3353 - val_mse: 2.3353 - val_mae: 1.1306\n"
     ]
    }
   ],
   "source": [
    "## storing the best parameters in a variable\n",
    "## fitting the model with best parameters\n",
    "\n",
    "d1= random_result.best_params_\n",
    "\n",
    "keras_tuned=keras_reg_model(learning_rate=d1['learning_rate'],activation_function=d1['activation_function'],init=d1['init'],\n",
    "                                                                                       neuron1=d1['neuron1'],neuron2=d1['neuron2'])\n",
    "\n",
    "# Training and evaluating the model\n",
    "history2=keras_tuned.fit(x_train, y_train, validation_data=(x_test,y_test),\n",
    "                         epochs =d1['epochs'], batch_size=d1['batch_size'])"
   ]
  },
  {
   "cell_type": "code",
   "execution_count": 93,
   "id": "8e7a819b",
   "metadata": {},
   "outputs": [
    {
     "name": "stdout",
     "output_type": "stream",
     "text": [
      "376/376 [==============================] - 0s 985us/step\n",
      "94/94 [==============================] - 0s 1ms/step\n",
      "Training set RMSE : 1.546, Testing set RMSE: 1.528\n"
     ]
    }
   ],
   "source": [
    "#Evaluate the model:-\n",
    "\n",
    "y_train_pred_tuned= keras_tuned.predict(x_train)\n",
    "y_test_pred_tuned= keras_tuned.predict(x_test)\n",
    "\n",
    "train_rmse_tuned = mean_squared_error(y_train,y_train_pred_tuned,squared=False)\n",
    "test_rmse_tuned = mean_squared_error(y_test, y_test_pred_tuned,squared=False)\n",
    "\n",
    "print('Training set RMSE : %.3f, Testing set RMSE: %.3f' % (train_rmse_tuned, test_rmse_tuned))"
   ]
  },
  {
   "cell_type": "code",
   "execution_count": 94,
   "id": "4e16b998",
   "metadata": {},
   "outputs": [
    {
     "data": {
      "text/html": [
       "<div>\n",
       "<style scoped>\n",
       "    .dataframe tbody tr th:only-of-type {\n",
       "        vertical-align: middle;\n",
       "    }\n",
       "\n",
       "    .dataframe tbody tr th {\n",
       "        vertical-align: top;\n",
       "    }\n",
       "\n",
       "    .dataframe thead th {\n",
       "        text-align: right;\n",
       "    }\n",
       "</style>\n",
       "<table border=\"1\" class=\"dataframe\">\n",
       "  <thead>\n",
       "    <tr style=\"text-align: right;\">\n",
       "      <th></th>\n",
       "      <th>Models</th>\n",
       "      <th>Train rmse</th>\n",
       "      <th>Test rmse</th>\n",
       "    </tr>\n",
       "  </thead>\n",
       "  <tbody>\n",
       "    <tr>\n",
       "      <th>0</th>\n",
       "      <td>base model</td>\n",
       "      <td>16.547405</td>\n",
       "      <td>16.551157</td>\n",
       "    </tr>\n",
       "    <tr>\n",
       "      <th>1</th>\n",
       "      <td>tuned model</td>\n",
       "      <td>1.546160</td>\n",
       "      <td>1.528158</td>\n",
       "    </tr>\n",
       "  </tbody>\n",
       "</table>\n",
       "</div>"
      ],
      "text/plain": [
       "        Models  Train rmse  Test rmse\n",
       "0   base model   16.547405  16.551157\n",
       "1  tuned model    1.546160   1.528158"
      ]
     },
     "execution_count": 94,
     "metadata": {},
     "output_type": "execute_result"
    }
   ],
   "source": [
    "result=pd.DataFrame({'Models':['base model','tuned model'],'Train rmse':[train_rmse,train_rmse_tuned],\n",
    "                     'Test rmse':[test_rmse,test_rmse_tuned]})\n",
    "result"
   ]
  },
  {
   "cell_type": "markdown",
   "id": "196e5f5b",
   "metadata": {},
   "source": [
    "#### For both base model and tuned model, the difference between rmse for train and test set is very low indicating almost no overfitting.\n",
    "#### For tuned model,the rmse has decreased compared to base model suggesting that hypertuning parameters has increased the efficiency of this regression model"
   ]
  },
  {
   "cell_type": "code",
   "execution_count": null,
   "id": "84ef0454",
   "metadata": {},
   "outputs": [],
   "source": []
  }
 ],
 "metadata": {
  "kernelspec": {
   "display_name": "Python 3 (ipykernel)",
   "language": "python",
   "name": "python3"
  },
  "language_info": {
   "codemirror_mode": {
    "name": "ipython",
    "version": 3
   },
   "file_extension": ".py",
   "mimetype": "text/x-python",
   "name": "python",
   "nbconvert_exporter": "python",
   "pygments_lexer": "ipython3",
   "version": "3.10.7"
  }
 },
 "nbformat": 4,
 "nbformat_minor": 5
}
